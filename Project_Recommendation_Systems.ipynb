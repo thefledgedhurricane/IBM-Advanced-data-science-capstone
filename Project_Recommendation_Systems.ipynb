{
 "cells": [
  {
   "cell_type": "markdown",
   "metadata": {},
   "source": [
    "## Sanju Mathew - Project on Recommendation Systems\n",
    "\n",
    "### Objective\n",
    "* Build a recommendation system to recommend products to customers based on their previous ratings for other products.\n",
    "\n",
    "### Step 1: Read and explore the given dataset.\n",
    "* Rename column/add headers, plot histograms, find data characteristics"
   ]
  },
  {
   "cell_type": "code",
   "execution_count": 1,
   "metadata": {},
   "outputs": [],
   "source": [
    "import numpy as np\n",
    "import pandas as pd\n",
    "import seaborn as sns\n",
    "import matplotlib.pyplot as plt\n",
    "import warnings\n",
    "\n",
    "warnings.filterwarnings('ignore')\n",
    "sns.set(style=\"whitegrid\", color_codes=True)\n",
    "sns.set_palette(\"Set1\")\n",
    "%matplotlib inline"
   ]
  },
  {
   "cell_type": "code",
   "execution_count": 2,
   "metadata": {},
   "outputs": [
    {
     "data": {
      "text/html": [
       "<div>\n",
       "<style scoped>\n",
       "    .dataframe tbody tr th:only-of-type {\n",
       "        vertical-align: middle;\n",
       "    }\n",
       "\n",
       "    .dataframe tbody tr th {\n",
       "        vertical-align: top;\n",
       "    }\n",
       "\n",
       "    .dataframe thead th {\n",
       "        text-align: right;\n",
       "    }\n",
       "</style>\n",
       "<table border=\"1\" class=\"dataframe\">\n",
       "  <thead>\n",
       "    <tr style=\"text-align: right;\">\n",
       "      <th></th>\n",
       "      <th>User_Id</th>\n",
       "      <th>Product_Id</th>\n",
       "      <th>Rating</th>\n",
       "    </tr>\n",
       "  </thead>\n",
       "  <tbody>\n",
       "    <tr>\n",
       "      <th>0</th>\n",
       "      <td>AKM1MP6P0OYPR</td>\n",
       "      <td>0132793040</td>\n",
       "      <td>5.0</td>\n",
       "    </tr>\n",
       "    <tr>\n",
       "      <th>1</th>\n",
       "      <td>A2CX7LUOHB2NDG</td>\n",
       "      <td>0321732944</td>\n",
       "      <td>5.0</td>\n",
       "    </tr>\n",
       "    <tr>\n",
       "      <th>2</th>\n",
       "      <td>A2NWSAGRHCP8N5</td>\n",
       "      <td>0439886341</td>\n",
       "      <td>1.0</td>\n",
       "    </tr>\n",
       "    <tr>\n",
       "      <th>3</th>\n",
       "      <td>A2WNBOD3WNDNKT</td>\n",
       "      <td>0439886341</td>\n",
       "      <td>3.0</td>\n",
       "    </tr>\n",
       "    <tr>\n",
       "      <th>4</th>\n",
       "      <td>A1GI0U4ZRJA8WN</td>\n",
       "      <td>0439886341</td>\n",
       "      <td>1.0</td>\n",
       "    </tr>\n",
       "  </tbody>\n",
       "</table>\n",
       "</div>"
      ],
      "text/plain": [
       "          User_Id  Product_Id  Rating\n",
       "0   AKM1MP6P0OYPR  0132793040     5.0\n",
       "1  A2CX7LUOHB2NDG  0321732944     5.0\n",
       "2  A2NWSAGRHCP8N5  0439886341     1.0\n",
       "3  A2WNBOD3WNDNKT  0439886341     3.0\n",
       "4  A1GI0U4ZRJA8WN  0439886341     1.0"
      ]
     },
     "execution_count": 2,
     "metadata": {},
     "output_type": "execute_result"
    }
   ],
   "source": [
    "df = pd.read_csv('ratings_Electronics.csv', names = ['User_Id', 'Product_Id', 'Rating', 'Timestamp'])\n",
    "df = df.drop(['Timestamp'], axis=1)\n",
    "df.head()"
   ]
  },
  {
   "cell_type": "markdown",
   "metadata": {},
   "source": [
    "##### Attribute Information:\n",
    "* User_Id : Every user identified with a unique id\n",
    "* Product_Id : Every product identified with a unique id\n",
    "* Rating : Rating of the corresponding product by the corresponding user\n",
    "* Timestamp : Time of the rating (Dropped)"
   ]
  },
  {
   "cell_type": "code",
   "execution_count": 3,
   "metadata": {},
   "outputs": [
    {
     "data": {
      "text/plain": [
       "(7824482, 3)"
      ]
     },
     "execution_count": 3,
     "metadata": {},
     "output_type": "execute_result"
    }
   ],
   "source": [
    "df.shape"
   ]
  },
  {
   "cell_type": "code",
   "execution_count": 4,
   "metadata": {},
   "outputs": [
    {
     "name": "stdout",
     "output_type": "stream",
     "text": [
      "<class 'pandas.core.frame.DataFrame'>\n",
      "RangeIndex: 7824482 entries, 0 to 7824481\n",
      "Data columns (total 3 columns):\n",
      "User_Id       object\n",
      "Product_Id    object\n",
      "Rating        int64\n",
      "dtypes: int64(1), object(2)\n",
      "memory usage: 179.1+ MB\n"
     ]
    }
   ],
   "source": [
    "df['Rating'] = df['Rating'].astype('int64')\n",
    "df.info()"
   ]
  },
  {
   "cell_type": "code",
   "execution_count": 5,
   "metadata": {},
   "outputs": [
    {
     "data": {
      "text/plain": [
       "User_Id       0\n",
       "Product_Id    0\n",
       "Rating        0\n",
       "dtype: int64"
      ]
     },
     "execution_count": 5,
     "metadata": {},
     "output_type": "execute_result"
    }
   ],
   "source": [
    "df.isnull().sum()"
   ]
  },
  {
   "cell_type": "code",
   "execution_count": 6,
   "metadata": {},
   "outputs": [
    {
     "data": {
      "text/plain": [
       "count    7.824482e+06\n",
       "mean     4.012337e+00\n",
       "std      1.380910e+00\n",
       "min      1.000000e+00\n",
       "25%      3.000000e+00\n",
       "50%      5.000000e+00\n",
       "75%      5.000000e+00\n",
       "max      5.000000e+00\n",
       "Name: Rating, dtype: float64"
      ]
     },
     "execution_count": 6,
     "metadata": {},
     "output_type": "execute_result"
    }
   ],
   "source": [
    "df['Rating'].describe().transpose()"
   ]
  },
  {
   "cell_type": "markdown",
   "metadata": {},
   "source": [
    "* Rating range is from 1 to 5\n",
    "* Ratings are left skewed with a median of 5 and mean of 4"
   ]
  },
  {
   "cell_type": "code",
   "execution_count": 7,
   "metadata": {},
   "outputs": [
    {
     "data": {
      "text/plain": [
       "Text(0, 0.5, 'Popularity of products')"
      ]
     },
     "execution_count": 7,
     "metadata": {},
     "output_type": "execute_result"
    },
    {
     "data": {
      "image/png": "[encoded data removed]",
      "text/plain": [
       "<Figure size 1080x504 with 1 Axes>"
      ]
     },
     "metadata": {
      "needs_background": "light"
     },
     "output_type": "display_data"
    }
   ],
   "source": [
    "df_Long_Tail = df.groupby(['Product_Id']).size().reset_index(name='counts').sort_values(by='counts', ascending=False).reset_index().head(1000)\n",
    "plt.figure(figsize=(15, 7))\n",
    "sns.lineplot(x=df_Long_Tail.index,y=df_Long_Tail.counts)\n",
    "plt.title('Long Tail Plot of Top 1000 Products', y=1.05, size=19)\n",
    "plt.xlabel('Products')\n",
    "plt.ylabel('Popularity of products')"
   ]
  },
  {
   "cell_type": "code",
   "execution_count": 8,
   "metadata": {},
   "outputs": [
    {
     "data": {
      "text/html": [
       "<div>\n",
       "<style scoped>\n",
       "    .dataframe tbody tr th:only-of-type {\n",
       "        vertical-align: middle;\n",
       "    }\n",
       "\n",
       "    .dataframe tbody tr th {\n",
       "        vertical-align: top;\n",
       "    }\n",
       "\n",
       "    .dataframe thead th {\n",
       "        text-align: right;\n",
       "    }\n",
       "</style>\n",
       "<table border=\"1\" class=\"dataframe\">\n",
       "  <thead>\n",
       "    <tr style=\"text-align: right;\">\n",
       "      <th>Rating</th>\n",
       "      <th>1</th>\n",
       "      <th>2</th>\n",
       "      <th>3</th>\n",
       "      <th>4</th>\n",
       "      <th>5</th>\n",
       "      <th>All</th>\n",
       "    </tr>\n",
       "    <tr>\n",
       "      <th>Product_Id</th>\n",
       "      <th></th>\n",
       "      <th></th>\n",
       "      <th></th>\n",
       "      <th></th>\n",
       "      <th></th>\n",
       "      <th></th>\n",
       "    </tr>\n",
       "  </thead>\n",
       "  <tbody>\n",
       "    <tr>\n",
       "      <th>All</th>\n",
       "      <td>901765</td>\n",
       "      <td>456322</td>\n",
       "      <td>633073</td>\n",
       "      <td>1485781</td>\n",
       "      <td>4347541</td>\n",
       "      <td>7824482</td>\n",
       "    </tr>\n",
       "    <tr>\n",
       "      <th>B0074BW614</th>\n",
       "      <td>564</td>\n",
       "      <td>524</td>\n",
       "      <td>1058</td>\n",
       "      <td>3333</td>\n",
       "      <td>12765</td>\n",
       "      <td>18244</td>\n",
       "    </tr>\n",
       "    <tr>\n",
       "      <th>B00DR0PDNE</th>\n",
       "      <td>1648</td>\n",
       "      <td>1270</td>\n",
       "      <td>1932</td>\n",
       "      <td>3323</td>\n",
       "      <td>8281</td>\n",
       "      <td>16454</td>\n",
       "    </tr>\n",
       "    <tr>\n",
       "      <th>B007WTAJTO</th>\n",
       "      <td>1222</td>\n",
       "      <td>293</td>\n",
       "      <td>413</td>\n",
       "      <td>1570</td>\n",
       "      <td>10674</td>\n",
       "      <td>14172</td>\n",
       "    </tr>\n",
       "    <tr>\n",
       "      <th>B0019EHU8G</th>\n",
       "      <td>298</td>\n",
       "      <td>127</td>\n",
       "      <td>220</td>\n",
       "      <td>1003</td>\n",
       "      <td>10637</td>\n",
       "      <td>12285</td>\n",
       "    </tr>\n",
       "    <tr>\n",
       "      <th>B006GWO5WK</th>\n",
       "      <td>831</td>\n",
       "      <td>424</td>\n",
       "      <td>923</td>\n",
       "      <td>1937</td>\n",
       "      <td>8111</td>\n",
       "      <td>12226</td>\n",
       "    </tr>\n",
       "  </tbody>\n",
       "</table>\n",
       "</div>"
      ],
      "text/plain": [
       "Rating           1       2       3        4        5      All\n",
       "Product_Id                                                   \n",
       "All         901765  456322  633073  1485781  4347541  7824482\n",
       "B0074BW614     564     524    1058     3333    12765    18244\n",
       "B00DR0PDNE    1648    1270    1932     3323     8281    16454\n",
       "B007WTAJTO    1222     293     413     1570    10674    14172\n",
       "B0019EHU8G     298     127     220     1003    10637    12285\n",
       "B006GWO5WK     831     424     923     1937     8111    12226"
      ]
     },
     "execution_count": 8,
     "metadata": {},
     "output_type": "execute_result"
    }
   ],
   "source": [
    "pd.crosstab(df['Product_Id'], df['Rating'], margins = True).sort_values(by='All', ascending=False).head(6)"
   ]
  },
  {
   "cell_type": "markdown",
   "metadata": {},
   "source": [
    "* Top rated product has 18244 ratings"
   ]
  },
  {
   "cell_type": "code",
   "execution_count": 9,
   "metadata": {},
   "outputs": [
    {
     "data": {
      "text/html": [
       "<div>\n",
       "<style scoped>\n",
       "    .dataframe tbody tr th:only-of-type {\n",
       "        vertical-align: middle;\n",
       "    }\n",
       "\n",
       "    .dataframe tbody tr th {\n",
       "        vertical-align: top;\n",
       "    }\n",
       "\n",
       "    .dataframe thead th {\n",
       "        text-align: right;\n",
       "    }\n",
       "</style>\n",
       "<table border=\"1\" class=\"dataframe\">\n",
       "  <thead>\n",
       "    <tr style=\"text-align: right;\">\n",
       "      <th>Rating</th>\n",
       "      <th>1</th>\n",
       "      <th>2</th>\n",
       "      <th>3</th>\n",
       "      <th>4</th>\n",
       "      <th>5</th>\n",
       "      <th>All</th>\n",
       "    </tr>\n",
       "    <tr>\n",
       "      <th>User_Id</th>\n",
       "      <th></th>\n",
       "      <th></th>\n",
       "      <th></th>\n",
       "      <th></th>\n",
       "      <th></th>\n",
       "      <th></th>\n",
       "    </tr>\n",
       "  </thead>\n",
       "  <tbody>\n",
       "    <tr>\n",
       "      <th>All</th>\n",
       "      <td>901765</td>\n",
       "      <td>456322</td>\n",
       "      <td>633073</td>\n",
       "      <td>1485781</td>\n",
       "      <td>4347541</td>\n",
       "      <td>7824482</td>\n",
       "    </tr>\n",
       "    <tr>\n",
       "      <th>A5JLAU2ARJ0BO</th>\n",
       "      <td>67</td>\n",
       "      <td>51</td>\n",
       "      <td>44</td>\n",
       "      <td>83</td>\n",
       "      <td>275</td>\n",
       "      <td>520</td>\n",
       "    </tr>\n",
       "    <tr>\n",
       "      <th>ADLVFFE4VBT8</th>\n",
       "      <td>9</td>\n",
       "      <td>24</td>\n",
       "      <td>54</td>\n",
       "      <td>143</td>\n",
       "      <td>271</td>\n",
       "      <td>501</td>\n",
       "    </tr>\n",
       "    <tr>\n",
       "      <th>A3OXHLG6DIBRW8</th>\n",
       "      <td>2</td>\n",
       "      <td>7</td>\n",
       "      <td>25</td>\n",
       "      <td>194</td>\n",
       "      <td>270</td>\n",
       "      <td>498</td>\n",
       "    </tr>\n",
       "    <tr>\n",
       "      <th>A6FIAB28IS79</th>\n",
       "      <td>7</td>\n",
       "      <td>28</td>\n",
       "      <td>56</td>\n",
       "      <td>128</td>\n",
       "      <td>212</td>\n",
       "      <td>431</td>\n",
       "    </tr>\n",
       "    <tr>\n",
       "      <th>A680RUE1FDO8B</th>\n",
       "      <td>21</td>\n",
       "      <td>15</td>\n",
       "      <td>38</td>\n",
       "      <td>36</td>\n",
       "      <td>296</td>\n",
       "      <td>406</td>\n",
       "    </tr>\n",
       "  </tbody>\n",
       "</table>\n",
       "</div>"
      ],
      "text/plain": [
       "Rating               1       2       3        4        5      All\n",
       "User_Id                                                          \n",
       "All             901765  456322  633073  1485781  4347541  7824482\n",
       "A5JLAU2ARJ0BO       67      51      44       83      275      520\n",
       "ADLVFFE4VBT8         9      24      54      143      271      501\n",
       "A3OXHLG6DIBRW8       2       7      25      194      270      498\n",
       "A6FIAB28IS79         7      28      56      128      212      431\n",
       "A680RUE1FDO8B       21      15      38       36      296      406"
      ]
     },
     "execution_count": 9,
     "metadata": {},
     "output_type": "execute_result"
    }
   ],
   "source": [
    "pd.crosstab(df['User_Id'], df['Rating'], margins = True).sort_values(by='All', ascending=False).head(6)"
   ]
  },
  {
   "cell_type": "markdown",
   "metadata": {},
   "source": [
    "* Maximum number of ratings given by a user is 520"
   ]
  },
  {
   "cell_type": "markdown",
   "metadata": {},
   "source": [
    "### Step 2: Take a subset of the dataset to make it less sparse/ denser.\n",
    "* Keep the users only who has given 50 or more number of ratings"
   ]
  },
  {
   "cell_type": "code",
   "execution_count": 10,
   "metadata": {},
   "outputs": [
    {
     "name": "stdout",
     "output_type": "stream",
     "text": [
      "Raw Data Unique Product Count: 476002 | Raw Data Unique User Count:   4201696\n",
      "Subset Unique Product Count:    48190 | Subset Unique User Count:        1540\n",
      "Density: 0.17%\n"
     ]
    },
    {
     "data": {
      "text/html": [
       "<div>\n",
       "<style scoped>\n",
       "    .dataframe tbody tr th:only-of-type {\n",
       "        vertical-align: middle;\n",
       "    }\n",
       "\n",
       "    .dataframe tbody tr th {\n",
       "        vertical-align: top;\n",
       "    }\n",
       "\n",
       "    .dataframe thead th {\n",
       "        text-align: right;\n",
       "    }\n",
       "</style>\n",
       "<table border=\"1\" class=\"dataframe\">\n",
       "  <thead>\n",
       "    <tr style=\"text-align: right;\">\n",
       "      <th>User_Id</th>\n",
       "      <th>A100UD67AHFODS</th>\n",
       "      <th>A100WO06OQR8BQ</th>\n",
       "      <th>A105S56ODHGJEK</th>\n",
       "      <th>A105TOJ6LTVMBG</th>\n",
       "      <th>A10AFVU66A79Y1</th>\n",
       "      <th>A10H24TDLK2VDP</th>\n",
       "      <th>A10NMELR4KX0J6</th>\n",
       "      <th>A10O7THJ2O20AG</th>\n",
       "      <th>A10PEXB6XAQ5XF</th>\n",
       "      <th>A10X9ME6R66JDX</th>\n",
       "      <th>...</th>\n",
       "      <th>AYOTEJ617O60K</th>\n",
       "      <th>AYP0YPLSP9ISM</th>\n",
       "      <th>AZ515FFZ7I2P7</th>\n",
       "      <th>AZ8XSDMIX04VJ</th>\n",
       "      <th>AZAC8O310IK4E</th>\n",
       "      <th>AZBXKUH4AIW3X</th>\n",
       "      <th>AZCE11PSTCH1L</th>\n",
       "      <th>AZMY6E8B52L2T</th>\n",
       "      <th>AZNUHQSHZHSUE</th>\n",
       "      <th>AZOK5STV85FBJ</th>\n",
       "    </tr>\n",
       "    <tr>\n",
       "      <th>Product_Id</th>\n",
       "      <th></th>\n",
       "      <th></th>\n",
       "      <th></th>\n",
       "      <th></th>\n",
       "      <th></th>\n",
       "      <th></th>\n",
       "      <th></th>\n",
       "      <th></th>\n",
       "      <th></th>\n",
       "      <th></th>\n",
       "      <th></th>\n",
       "      <th></th>\n",
       "      <th></th>\n",
       "      <th></th>\n",
       "      <th></th>\n",
       "      <th></th>\n",
       "      <th></th>\n",
       "      <th></th>\n",
       "      <th></th>\n",
       "      <th></th>\n",
       "      <th></th>\n",
       "    </tr>\n",
       "  </thead>\n",
       "  <tbody>\n",
       "    <tr>\n",
       "      <th>0594451647</th>\n",
       "      <td>0.0</td>\n",
       "      <td>0.0</td>\n",
       "      <td>0.0</td>\n",
       "      <td>0.0</td>\n",
       "      <td>0.0</td>\n",
       "      <td>0.0</td>\n",
       "      <td>0.0</td>\n",
       "      <td>0.0</td>\n",
       "      <td>0.0</td>\n",
       "      <td>0.0</td>\n",
       "      <td>...</td>\n",
       "      <td>0.0</td>\n",
       "      <td>0.0</td>\n",
       "      <td>0.0</td>\n",
       "      <td>0.0</td>\n",
       "      <td>0.0</td>\n",
       "      <td>0.0</td>\n",
       "      <td>0.0</td>\n",
       "      <td>0.0</td>\n",
       "      <td>0.0</td>\n",
       "      <td>0.0</td>\n",
       "    </tr>\n",
       "    <tr>\n",
       "      <th>0594481813</th>\n",
       "      <td>0.0</td>\n",
       "      <td>0.0</td>\n",
       "      <td>0.0</td>\n",
       "      <td>0.0</td>\n",
       "      <td>0.0</td>\n",
       "      <td>0.0</td>\n",
       "      <td>0.0</td>\n",
       "      <td>0.0</td>\n",
       "      <td>0.0</td>\n",
       "      <td>0.0</td>\n",
       "      <td>...</td>\n",
       "      <td>0.0</td>\n",
       "      <td>0.0</td>\n",
       "      <td>0.0</td>\n",
       "      <td>0.0</td>\n",
       "      <td>0.0</td>\n",
       "      <td>0.0</td>\n",
       "      <td>0.0</td>\n",
       "      <td>0.0</td>\n",
       "      <td>0.0</td>\n",
       "      <td>0.0</td>\n",
       "    </tr>\n",
       "    <tr>\n",
       "      <th>0970407998</th>\n",
       "      <td>0.0</td>\n",
       "      <td>0.0</td>\n",
       "      <td>0.0</td>\n",
       "      <td>0.0</td>\n",
       "      <td>0.0</td>\n",
       "      <td>0.0</td>\n",
       "      <td>0.0</td>\n",
       "      <td>0.0</td>\n",
       "      <td>0.0</td>\n",
       "      <td>0.0</td>\n",
       "      <td>...</td>\n",
       "      <td>0.0</td>\n",
       "      <td>0.0</td>\n",
       "      <td>0.0</td>\n",
       "      <td>0.0</td>\n",
       "      <td>0.0</td>\n",
       "      <td>0.0</td>\n",
       "      <td>0.0</td>\n",
       "      <td>0.0</td>\n",
       "      <td>0.0</td>\n",
       "      <td>0.0</td>\n",
       "    </tr>\n",
       "    <tr>\n",
       "      <th>0972683275</th>\n",
       "      <td>0.0</td>\n",
       "      <td>0.0</td>\n",
       "      <td>0.0</td>\n",
       "      <td>0.0</td>\n",
       "      <td>0.0</td>\n",
       "      <td>0.0</td>\n",
       "      <td>0.0</td>\n",
       "      <td>0.0</td>\n",
       "      <td>0.0</td>\n",
       "      <td>0.0</td>\n",
       "      <td>...</td>\n",
       "      <td>0.0</td>\n",
       "      <td>0.0</td>\n",
       "      <td>0.0</td>\n",
       "      <td>0.0</td>\n",
       "      <td>0.0</td>\n",
       "      <td>0.0</td>\n",
       "      <td>0.0</td>\n",
       "      <td>0.0</td>\n",
       "      <td>0.0</td>\n",
       "      <td>0.0</td>\n",
       "    </tr>\n",
       "    <tr>\n",
       "      <th>1400501466</th>\n",
       "      <td>0.0</td>\n",
       "      <td>0.0</td>\n",
       "      <td>0.0</td>\n",
       "      <td>0.0</td>\n",
       "      <td>0.0</td>\n",
       "      <td>0.0</td>\n",
       "      <td>0.0</td>\n",
       "      <td>0.0</td>\n",
       "      <td>0.0</td>\n",
       "      <td>0.0</td>\n",
       "      <td>...</td>\n",
       "      <td>0.0</td>\n",
       "      <td>0.0</td>\n",
       "      <td>0.0</td>\n",
       "      <td>0.0</td>\n",
       "      <td>0.0</td>\n",
       "      <td>0.0</td>\n",
       "      <td>0.0</td>\n",
       "      <td>0.0</td>\n",
       "      <td>0.0</td>\n",
       "      <td>0.0</td>\n",
       "    </tr>\n",
       "  </tbody>\n",
       "</table>\n",
       "<p>5 rows × 1540 columns</p>\n",
       "</div>"
      ],
      "text/plain": [
       "User_Id     A100UD67AHFODS  A100WO06OQR8BQ  A105S56ODHGJEK  A105TOJ6LTVMBG  \\\n",
       "Product_Id                                                                   \n",
       "0594451647             0.0             0.0             0.0             0.0   \n",
       "0594481813             0.0             0.0             0.0             0.0   \n",
       "0970407998             0.0             0.0             0.0             0.0   \n",
       "0972683275             0.0             0.0             0.0             0.0   \n",
       "1400501466             0.0             0.0             0.0             0.0   \n",
       "\n",
       "User_Id     A10AFVU66A79Y1  A10H24TDLK2VDP  A10NMELR4KX0J6  A10O7THJ2O20AG  \\\n",
       "Product_Id                                                                   \n",
       "0594451647             0.0             0.0             0.0             0.0   \n",
       "0594481813             0.0             0.0             0.0             0.0   \n",
       "0970407998             0.0             0.0             0.0             0.0   \n",
       "0972683275             0.0             0.0             0.0             0.0   \n",
       "1400501466             0.0             0.0             0.0             0.0   \n",
       "\n",
       "User_Id     A10PEXB6XAQ5XF  A10X9ME6R66JDX  ...  AYOTEJ617O60K  AYP0YPLSP9ISM  \\\n",
       "Product_Id                                  ...                                 \n",
       "0594451647             0.0             0.0  ...            0.0            0.0   \n",
       "0594481813             0.0             0.0  ...            0.0            0.0   \n",
       "0970407998             0.0             0.0  ...            0.0            0.0   \n",
       "0972683275             0.0             0.0  ...            0.0            0.0   \n",
       "1400501466             0.0             0.0  ...            0.0            0.0   \n",
       "\n",
       "User_Id     AZ515FFZ7I2P7  AZ8XSDMIX04VJ  AZAC8O310IK4E  AZBXKUH4AIW3X  \\\n",
       "Product_Id                                                               \n",
       "0594451647            0.0            0.0            0.0            0.0   \n",
       "0594481813            0.0            0.0            0.0            0.0   \n",
       "0970407998            0.0            0.0            0.0            0.0   \n",
       "0972683275            0.0            0.0            0.0            0.0   \n",
       "1400501466            0.0            0.0            0.0            0.0   \n",
       "\n",
       "User_Id     AZCE11PSTCH1L  AZMY6E8B52L2T  AZNUHQSHZHSUE  AZOK5STV85FBJ  \n",
       "Product_Id                                                              \n",
       "0594451647            0.0            0.0            0.0            0.0  \n",
       "0594481813            0.0            0.0            0.0            0.0  \n",
       "0970407998            0.0            0.0            0.0            0.0  \n",
       "0972683275            0.0            0.0            0.0            0.0  \n",
       "1400501466            0.0            0.0            0.0            0.0  \n",
       "\n",
       "[5 rows x 1540 columns]"
      ]
     },
     "execution_count": 10,
     "metadata": {},
     "output_type": "execute_result"
    }
   ],
   "source": [
    "counts = df['User_Id'].value_counts()\n",
    "df_final = df[df['User_Id'].isin(counts[counts >= 50].index)]\n",
    "\n",
    "print('Raw Data Unique Product Count:', df.Product_Id.nunique(), '| Raw Data Unique User Count:  ', df.User_Id.nunique())\n",
    "print('Subset Unique Product Count:   ', df_final.Product_Id.nunique(), '| Subset Unique User Count:       ', df_final.User_Id.nunique())\n",
    "\n",
    "final_ratings_matrix = df_final.pivot(index = 'User_Id', columns ='Product_Id', values = 'Rating').fillna(0)\n",
    "given_num_of_ratings = np.count_nonzero(final_ratings_matrix)\n",
    "possible_num_of_ratings = final_ratings_matrix.shape[0] * final_ratings_matrix.shape[1]\n",
    "density = (given_num_of_ratings/possible_num_of_ratings) * 100\n",
    "print ('Density: {:4.2f}%'.format(density))\n",
    "final_ratings_matrix.T.head()"
   ]
  },
  {
   "cell_type": "markdown",
   "metadata": {},
   "source": [
    "* Converting to denser data by droping users with less than 50 ratings"
   ]
  },
  {
   "cell_type": "code",
   "execution_count": 11,
   "metadata": {},
   "outputs": [
    {
     "name": "stdout",
     "output_type": "stream",
     "text": [
      "Raw Data Unique Product Count: 476002 | Raw Data Unique User Count:   4201696\n",
      "Subset Unique Product Count:    16993 | Subset Unique User Count:        1540\n",
      "Density: 0.30%\n"
     ]
    },
    {
     "data": {
      "text/html": [
       "<div>\n",
       "<style scoped>\n",
       "    .dataframe tbody tr th:only-of-type {\n",
       "        vertical-align: middle;\n",
       "    }\n",
       "\n",
       "    .dataframe tbody tr th {\n",
       "        vertical-align: top;\n",
       "    }\n",
       "\n",
       "    .dataframe thead th {\n",
       "        text-align: right;\n",
       "    }\n",
       "</style>\n",
       "<table border=\"1\" class=\"dataframe\">\n",
       "  <thead>\n",
       "    <tr style=\"text-align: right;\">\n",
       "      <th>User_Id</th>\n",
       "      <th>A100UD67AHFODS</th>\n",
       "      <th>A100WO06OQR8BQ</th>\n",
       "      <th>A105S56ODHGJEK</th>\n",
       "      <th>A105TOJ6LTVMBG</th>\n",
       "      <th>A10AFVU66A79Y1</th>\n",
       "      <th>A10H24TDLK2VDP</th>\n",
       "      <th>A10NMELR4KX0J6</th>\n",
       "      <th>A10O7THJ2O20AG</th>\n",
       "      <th>A10PEXB6XAQ5XF</th>\n",
       "      <th>A10X9ME6R66JDX</th>\n",
       "      <th>...</th>\n",
       "      <th>AYOTEJ617O60K</th>\n",
       "      <th>AYP0YPLSP9ISM</th>\n",
       "      <th>AZ515FFZ7I2P7</th>\n",
       "      <th>AZ8XSDMIX04VJ</th>\n",
       "      <th>AZAC8O310IK4E</th>\n",
       "      <th>AZBXKUH4AIW3X</th>\n",
       "      <th>AZCE11PSTCH1L</th>\n",
       "      <th>AZMY6E8B52L2T</th>\n",
       "      <th>AZNUHQSHZHSUE</th>\n",
       "      <th>AZOK5STV85FBJ</th>\n",
       "    </tr>\n",
       "    <tr>\n",
       "      <th>Product_Id</th>\n",
       "      <th></th>\n",
       "      <th></th>\n",
       "      <th></th>\n",
       "      <th></th>\n",
       "      <th></th>\n",
       "      <th></th>\n",
       "      <th></th>\n",
       "      <th></th>\n",
       "      <th></th>\n",
       "      <th></th>\n",
       "      <th></th>\n",
       "      <th></th>\n",
       "      <th></th>\n",
       "      <th></th>\n",
       "      <th></th>\n",
       "      <th></th>\n",
       "      <th></th>\n",
       "      <th></th>\n",
       "      <th></th>\n",
       "      <th></th>\n",
       "      <th></th>\n",
       "    </tr>\n",
       "  </thead>\n",
       "  <tbody>\n",
       "    <tr>\n",
       "      <th>0972683275</th>\n",
       "      <td>0.0</td>\n",
       "      <td>0.0</td>\n",
       "      <td>0.0</td>\n",
       "      <td>0.0</td>\n",
       "      <td>0.0</td>\n",
       "      <td>0.0</td>\n",
       "      <td>0.0</td>\n",
       "      <td>0.0</td>\n",
       "      <td>0.0</td>\n",
       "      <td>0.0</td>\n",
       "      <td>...</td>\n",
       "      <td>0.0</td>\n",
       "      <td>0.0</td>\n",
       "      <td>0.0</td>\n",
       "      <td>0.0</td>\n",
       "      <td>0.0</td>\n",
       "      <td>0.0</td>\n",
       "      <td>0.0</td>\n",
       "      <td>0.0</td>\n",
       "      <td>0.0</td>\n",
       "      <td>0.0</td>\n",
       "    </tr>\n",
       "    <tr>\n",
       "      <th>1400501466</th>\n",
       "      <td>0.0</td>\n",
       "      <td>0.0</td>\n",
       "      <td>0.0</td>\n",
       "      <td>0.0</td>\n",
       "      <td>0.0</td>\n",
       "      <td>0.0</td>\n",
       "      <td>0.0</td>\n",
       "      <td>0.0</td>\n",
       "      <td>0.0</td>\n",
       "      <td>0.0</td>\n",
       "      <td>...</td>\n",
       "      <td>0.0</td>\n",
       "      <td>0.0</td>\n",
       "      <td>0.0</td>\n",
       "      <td>0.0</td>\n",
       "      <td>0.0</td>\n",
       "      <td>0.0</td>\n",
       "      <td>0.0</td>\n",
       "      <td>0.0</td>\n",
       "      <td>0.0</td>\n",
       "      <td>0.0</td>\n",
       "    </tr>\n",
       "    <tr>\n",
       "      <th>1400501520</th>\n",
       "      <td>0.0</td>\n",
       "      <td>0.0</td>\n",
       "      <td>0.0</td>\n",
       "      <td>0.0</td>\n",
       "      <td>0.0</td>\n",
       "      <td>0.0</td>\n",
       "      <td>0.0</td>\n",
       "      <td>0.0</td>\n",
       "      <td>0.0</td>\n",
       "      <td>0.0</td>\n",
       "      <td>...</td>\n",
       "      <td>0.0</td>\n",
       "      <td>0.0</td>\n",
       "      <td>0.0</td>\n",
       "      <td>0.0</td>\n",
       "      <td>0.0</td>\n",
       "      <td>0.0</td>\n",
       "      <td>0.0</td>\n",
       "      <td>0.0</td>\n",
       "      <td>0.0</td>\n",
       "      <td>0.0</td>\n",
       "    </tr>\n",
       "    <tr>\n",
       "      <th>1400501776</th>\n",
       "      <td>0.0</td>\n",
       "      <td>0.0</td>\n",
       "      <td>0.0</td>\n",
       "      <td>0.0</td>\n",
       "      <td>0.0</td>\n",
       "      <td>0.0</td>\n",
       "      <td>0.0</td>\n",
       "      <td>0.0</td>\n",
       "      <td>0.0</td>\n",
       "      <td>0.0</td>\n",
       "      <td>...</td>\n",
       "      <td>0.0</td>\n",
       "      <td>0.0</td>\n",
       "      <td>0.0</td>\n",
       "      <td>0.0</td>\n",
       "      <td>0.0</td>\n",
       "      <td>0.0</td>\n",
       "      <td>0.0</td>\n",
       "      <td>0.0</td>\n",
       "      <td>0.0</td>\n",
       "      <td>0.0</td>\n",
       "    </tr>\n",
       "    <tr>\n",
       "      <th>1400532620</th>\n",
       "      <td>0.0</td>\n",
       "      <td>0.0</td>\n",
       "      <td>0.0</td>\n",
       "      <td>0.0</td>\n",
       "      <td>0.0</td>\n",
       "      <td>0.0</td>\n",
       "      <td>0.0</td>\n",
       "      <td>0.0</td>\n",
       "      <td>0.0</td>\n",
       "      <td>0.0</td>\n",
       "      <td>...</td>\n",
       "      <td>0.0</td>\n",
       "      <td>0.0</td>\n",
       "      <td>0.0</td>\n",
       "      <td>0.0</td>\n",
       "      <td>0.0</td>\n",
       "      <td>0.0</td>\n",
       "      <td>0.0</td>\n",
       "      <td>0.0</td>\n",
       "      <td>0.0</td>\n",
       "      <td>0.0</td>\n",
       "    </tr>\n",
       "  </tbody>\n",
       "</table>\n",
       "<p>5 rows × 1540 columns</p>\n",
       "</div>"
      ],
      "text/plain": [
       "User_Id     A100UD67AHFODS  A100WO06OQR8BQ  A105S56ODHGJEK  A105TOJ6LTVMBG  \\\n",
       "Product_Id                                                                   \n",
       "0972683275             0.0             0.0             0.0             0.0   \n",
       "1400501466             0.0             0.0             0.0             0.0   \n",
       "1400501520             0.0             0.0             0.0             0.0   \n",
       "1400501776             0.0             0.0             0.0             0.0   \n",
       "1400532620             0.0             0.0             0.0             0.0   \n",
       "\n",
       "User_Id     A10AFVU66A79Y1  A10H24TDLK2VDP  A10NMELR4KX0J6  A10O7THJ2O20AG  \\\n",
       "Product_Id                                                                   \n",
       "0972683275             0.0             0.0             0.0             0.0   \n",
       "1400501466             0.0             0.0             0.0             0.0   \n",
       "1400501520             0.0             0.0             0.0             0.0   \n",
       "1400501776             0.0             0.0             0.0             0.0   \n",
       "1400532620             0.0             0.0             0.0             0.0   \n",
       "\n",
       "User_Id     A10PEXB6XAQ5XF  A10X9ME6R66JDX  ...  AYOTEJ617O60K  AYP0YPLSP9ISM  \\\n",
       "Product_Id                                  ...                                 \n",
       "0972683275             0.0             0.0  ...            0.0            0.0   \n",
       "1400501466             0.0             0.0  ...            0.0            0.0   \n",
       "1400501520             0.0             0.0  ...            0.0            0.0   \n",
       "1400501776             0.0             0.0  ...            0.0            0.0   \n",
       "1400532620             0.0             0.0  ...            0.0            0.0   \n",
       "\n",
       "User_Id     AZ515FFZ7I2P7  AZ8XSDMIX04VJ  AZAC8O310IK4E  AZBXKUH4AIW3X  \\\n",
       "Product_Id                                                               \n",
       "0972683275            0.0            0.0            0.0            0.0   \n",
       "1400501466            0.0            0.0            0.0            0.0   \n",
       "1400501520            0.0            0.0            0.0            0.0   \n",
       "1400501776            0.0            0.0            0.0            0.0   \n",
       "1400532620            0.0            0.0            0.0            0.0   \n",
       "\n",
       "User_Id     AZCE11PSTCH1L  AZMY6E8B52L2T  AZNUHQSHZHSUE  AZOK5STV85FBJ  \n",
       "Product_Id                                                              \n",
       "0972683275            0.0            0.0            0.0            0.0  \n",
       "1400501466            0.0            0.0            0.0            0.0  \n",
       "1400501520            0.0            0.0            0.0            0.0  \n",
       "1400501776            0.0            0.0            0.0            0.0  \n",
       "1400532620            0.0            0.0            0.0            0.0  \n",
       "\n",
       "[5 rows x 1540 columns]"
      ]
     },
     "execution_count": 11,
     "metadata": {},
     "output_type": "execute_result"
    }
   ],
   "source": [
    "filter_users = df['User_Id'].value_counts() >= 50\n",
    "filter_users = filter_users[filter_users].index.tolist()\n",
    "\n",
    "filter_products = df['Product_Id'].value_counts() >= 50\n",
    "filter_products = filter_products[filter_products].index.tolist()\n",
    "\n",
    "df_new = df[(df['Product_Id'].isin(filter_products)) & (df['User_Id'].isin(filter_users))]\n",
    "print('Raw Data Unique Product Count:', df.Product_Id.nunique(), '| Raw Data Unique User Count:  ', df.User_Id.nunique())\n",
    "print('Subset Unique Product Count:   ', df_new.Product_Id.nunique(), '| Subset Unique User Count:       ', df_new.User_Id.nunique())\n",
    "\n",
    "final_ratings_matrix_sur = df_new.pivot(index = 'User_Id', columns ='Product_Id', values = 'Rating').fillna(0)\n",
    "given_num_of_ratings = np.count_nonzero(final_ratings_matrix_sur)\n",
    "possible_num_of_ratings = final_ratings_matrix_sur.shape[0] * final_ratings_matrix_sur.shape[1]\n",
    "density = (given_num_of_ratings/possible_num_of_ratings) * 100\n",
    "print ('Density: {:4.2f}%'.format(density))\n",
    "final_ratings_matrix_sur.T.head()"
   ]
  },
  {
   "cell_type": "markdown",
   "metadata": {},
   "source": [
    "* Converting to even lighter and denser data to avoid memory error in Surprise package, droping users and products with less than 50 ratings"
   ]
  },
  {
   "cell_type": "code",
   "execution_count": 12,
   "metadata": {},
   "outputs": [
    {
     "data": {
      "text/plain": [
       "Text(0.5, 1.0, 'Subset Data Surprise')"
      ]
     },
     "execution_count": 12,
     "metadata": {},
     "output_type": "execute_result"
    },
    {
     "data": {
      "image/png": "[encoded data removed]",
      "text/plain": [
       "<Figure size 1080x504 with 3 Axes>"
      ]
     },
     "metadata": {
      "needs_background": "light"
     },
     "output_type": "display_data"
    }
   ],
   "source": [
    "f, ax = plt.subplots(1, 3, figsize = (15, 7))\n",
    "plt.subplots_adjust(left=None, bottom=None, right=None, top=None, wspace=0.3)\n",
    "sns.countplot(x='Rating', data=df, ax=ax[0])\n",
    "ax[0].set_title(\"Raw Data\", size = 18, weight = \"bold\")\n",
    "sns.countplot(x='Rating', data=df_final, ax=ax[1])\n",
    "ax[1].set_title(\"Subset Data\", size = 18, weight = \"bold\")\n",
    "sns.countplot(x='Rating', data=df_new, ax=ax[2])\n",
    "ax[2].set_title(\"Subset Data Surprise\", size = 18, weight = \"bold\")"
   ]
  },
  {
   "cell_type": "markdown",
   "metadata": {},
   "source": [
    "* Most of the users and products dropped had ratings of 1 and 2 relative to higher ratings\n",
    "* May indicate that users who rate less normally rate a product if they are not happy about it"
   ]
  },
  {
   "cell_type": "code",
   "execution_count": 13,
   "metadata": {},
   "outputs": [
    {
     "data": {
      "text/plain": [
       "Text(0.5, 1.0, 'Subset Data Surprise')"
      ]
     },
     "execution_count": 13,
     "metadata": {},
     "output_type": "execute_result"
    },
    {
     "data": {
      "image/png": "[encoded data removed]",
      "text/plain": [
       "<Figure size 1080x720 with 3 Axes>"
      ]
     },
     "metadata": {
      "needs_background": "light"
     },
     "output_type": "display_data"
    }
   ],
   "source": [
    "f, ax = plt.subplots(3, 1, figsize = (15, 10))\n",
    "plt.subplots_adjust(left=None, bottom=None, right=None, top=None, wspace=None, hspace=0.6)\n",
    "sns.boxplot(x = df['Rating'], orient=\"h\", ax = ax[0])\n",
    "ax[0].set_title(\"Raw Data\", size = 18, weight = \"bold\")\n",
    "sns.boxplot(x = df_final['Rating'], orient=\"h\", ax = ax[1])\n",
    "ax[1].set_title(\"Subset Data\", size = 18, weight = \"bold\")\n",
    "sns.boxplot(x = df_new['Rating'], orient=\"h\", ax = ax[2])\n",
    "ax[2].set_title(\"Subset Data Surprise\", size = 18, weight = \"bold\")"
   ]
  },
  {
   "cell_type": "markdown",
   "metadata": {},
   "source": [
    "* Mean appears to be shifting from 4 to 4.26 in Subset Data"
   ]
  },
  {
   "cell_type": "markdown",
   "metadata": {},
   "source": [
    "### Step 3: Split the data randomly into train and test dataset.\n",
    "* Split it in 70/30 ratio"
   ]
  },
  {
   "cell_type": "code",
   "execution_count": 14,
   "metadata": {},
   "outputs": [
    {
     "name": "stdout",
     "output_type": "stream",
     "text": [
      "Train data shape: (88109, 3) | Test data shape: (37762, 3)\n"
     ]
    },
    {
     "data": {
      "text/html": [
       "<div>\n",
       "<style scoped>\n",
       "    .dataframe tbody tr th:only-of-type {\n",
       "        vertical-align: middle;\n",
       "    }\n",
       "\n",
       "    .dataframe tbody tr th {\n",
       "        vertical-align: top;\n",
       "    }\n",
       "\n",
       "    .dataframe thead th {\n",
       "        text-align: right;\n",
       "    }\n",
       "</style>\n",
       "<table border=\"1\" class=\"dataframe\">\n",
       "  <thead>\n",
       "    <tr style=\"text-align: right;\">\n",
       "      <th></th>\n",
       "      <th>User_Id</th>\n",
       "      <th>Product_Id</th>\n",
       "      <th>Rating</th>\n",
       "    </tr>\n",
       "  </thead>\n",
       "  <tbody>\n",
       "    <tr>\n",
       "      <th>6595853</th>\n",
       "      <td>A2BYV7S1QP2YIG</td>\n",
       "      <td>B009EAHVTA</td>\n",
       "      <td>5</td>\n",
       "    </tr>\n",
       "    <tr>\n",
       "      <th>4738241</th>\n",
       "      <td>AB094YABX21WQ</td>\n",
       "      <td>B0056XCEAA</td>\n",
       "      <td>1</td>\n",
       "    </tr>\n",
       "    <tr>\n",
       "      <th>4175596</th>\n",
       "      <td>A3D0UM4ZD2CMAW</td>\n",
       "      <td>B004I763AW</td>\n",
       "      <td>5</td>\n",
       "    </tr>\n",
       "    <tr>\n",
       "      <th>3753016</th>\n",
       "      <td>AATWFX0ZZSE6C</td>\n",
       "      <td>B0040NPHMO</td>\n",
       "      <td>3</td>\n",
       "    </tr>\n",
       "    <tr>\n",
       "      <th>1734767</th>\n",
       "      <td>A1NNMOD9H36Q8E</td>\n",
       "      <td>B0015VW3BM</td>\n",
       "      <td>4</td>\n",
       "    </tr>\n",
       "  </tbody>\n",
       "</table>\n",
       "</div>"
      ],
      "text/plain": [
       "                User_Id  Product_Id  Rating\n",
       "6595853  A2BYV7S1QP2YIG  B009EAHVTA       5\n",
       "4738241   AB094YABX21WQ  B0056XCEAA       1\n",
       "4175596  A3D0UM4ZD2CMAW  B004I763AW       5\n",
       "3753016   AATWFX0ZZSE6C  B0040NPHMO       3\n",
       "1734767  A1NNMOD9H36Q8E  B0015VW3BM       4"
      ]
     },
     "execution_count": 14,
     "metadata": {},
     "output_type": "execute_result"
    }
   ],
   "source": [
    "from sklearn.model_selection import train_test_split\n",
    "train_data, test_data = train_test_split(df_final, test_size = 0.3, random_state=0)\n",
    "print('Train data shape:', train_data.shape, '| Test data shape:', test_data.shape)\n",
    "train_data.head()"
   ]
  },
  {
   "cell_type": "code",
   "execution_count": 15,
   "metadata": {},
   "outputs": [],
   "source": [
    "from surprise import Reader, Dataset\n",
    "from surprise.model_selection import train_test_split\n",
    "\n",
    "reader = Reader(rating_scale=(1,5))\n",
    "data = Dataset.load_from_df(df_new[['User_Id', 'Product_Id', 'Rating']], reader)\n",
    "trainset, testset = train_test_split(data, test_size=0.3, random_state=0)"
   ]
  },
  {
   "cell_type": "markdown",
   "metadata": {},
   "source": [
    "* Data is split into 70:30 for Train & Test\n",
    "* Surprise package data structure requirements are different, hence creating separate dataset for it"
   ]
  },
  {
   "cell_type": "markdown",
   "metadata": {},
   "source": [
    "### Step 4: Build Popularity Recommender model."
   ]
  },
  {
   "cell_type": "code",
   "execution_count": 16,
   "metadata": {},
   "outputs": [
    {
     "data": {
      "text/html": [
       "<div>\n",
       "<style scoped>\n",
       "    .dataframe tbody tr th:only-of-type {\n",
       "        vertical-align: middle;\n",
       "    }\n",
       "\n",
       "    .dataframe tbody tr th {\n",
       "        vertical-align: top;\n",
       "    }\n",
       "\n",
       "    .dataframe thead th {\n",
       "        text-align: right;\n",
       "    }\n",
       "</style>\n",
       "<table border=\"1\" class=\"dataframe\">\n",
       "  <thead>\n",
       "    <tr style=\"text-align: right;\">\n",
       "      <th>Rating</th>\n",
       "      <th>1</th>\n",
       "      <th>2</th>\n",
       "      <th>3</th>\n",
       "      <th>4</th>\n",
       "      <th>5</th>\n",
       "      <th>All</th>\n",
       "    </tr>\n",
       "    <tr>\n",
       "      <th>Product_Id</th>\n",
       "      <th></th>\n",
       "      <th></th>\n",
       "      <th></th>\n",
       "      <th></th>\n",
       "      <th></th>\n",
       "      <th></th>\n",
       "    </tr>\n",
       "  </thead>\n",
       "  <tbody>\n",
       "    <tr>\n",
       "      <th>All</th>\n",
       "      <td>3617</td>\n",
       "      <td>3759</td>\n",
       "      <td>8445</td>\n",
       "      <td>22574</td>\n",
       "      <td>49714</td>\n",
       "      <td>88109</td>\n",
       "    </tr>\n",
       "    <tr>\n",
       "      <th>B0088CJT4U</th>\n",
       "      <td>2</td>\n",
       "      <td>6</td>\n",
       "      <td>13</td>\n",
       "      <td>56</td>\n",
       "      <td>56</td>\n",
       "      <td>133</td>\n",
       "    </tr>\n",
       "    <tr>\n",
       "      <th>B007WTAJTO</th>\n",
       "      <td>5</td>\n",
       "      <td>1</td>\n",
       "      <td>3</td>\n",
       "      <td>16</td>\n",
       "      <td>99</td>\n",
       "      <td>124</td>\n",
       "    </tr>\n",
       "    <tr>\n",
       "      <th>B003ES5ZUU</th>\n",
       "      <td>0</td>\n",
       "      <td>2</td>\n",
       "      <td>1</td>\n",
       "      <td>11</td>\n",
       "      <td>108</td>\n",
       "      <td>122</td>\n",
       "    </tr>\n",
       "    <tr>\n",
       "      <th>B000N99BBC</th>\n",
       "      <td>0</td>\n",
       "      <td>0</td>\n",
       "      <td>3</td>\n",
       "      <td>21</td>\n",
       "      <td>90</td>\n",
       "      <td>114</td>\n",
       "    </tr>\n",
       "    <tr>\n",
       "      <th>B00829THK0</th>\n",
       "      <td>3</td>\n",
       "      <td>2</td>\n",
       "      <td>3</td>\n",
       "      <td>27</td>\n",
       "      <td>62</td>\n",
       "      <td>97</td>\n",
       "    </tr>\n",
       "  </tbody>\n",
       "</table>\n",
       "</div>"
      ],
      "text/plain": [
       "Rating         1     2     3      4      5    All\n",
       "Product_Id                                       \n",
       "All         3617  3759  8445  22574  49714  88109\n",
       "B0088CJT4U     2     6    13     56     56    133\n",
       "B007WTAJTO     5     1     3     16     99    124\n",
       "B003ES5ZUU     0     2     1     11    108    122\n",
       "B000N99BBC     0     0     3     21     90    114\n",
       "B00829THK0     3     2     3     27     62     97"
      ]
     },
     "execution_count": 16,
     "metadata": {},
     "output_type": "execute_result"
    }
   ],
   "source": [
    "pd.crosstab(train_data['Product_Id'], train_data['Rating'], margins = True).sort_values(by='All', ascending=False).head(6)"
   ]
  },
  {
   "cell_type": "code",
   "execution_count": 17,
   "metadata": {},
   "outputs": [
    {
     "data": {
      "text/html": [
       "<div>\n",
       "<style scoped>\n",
       "    .dataframe tbody tr th:only-of-type {\n",
       "        vertical-align: middle;\n",
       "    }\n",
       "\n",
       "    .dataframe tbody tr th {\n",
       "        vertical-align: top;\n",
       "    }\n",
       "\n",
       "    .dataframe thead th {\n",
       "        text-align: right;\n",
       "    }\n",
       "</style>\n",
       "<table border=\"1\" class=\"dataframe\">\n",
       "  <thead>\n",
       "    <tr style=\"text-align: right;\">\n",
       "      <th></th>\n",
       "      <th>Product_Id</th>\n",
       "      <th>Score</th>\n",
       "      <th>Rank</th>\n",
       "    </tr>\n",
       "  </thead>\n",
       "  <tbody>\n",
       "    <tr>\n",
       "      <th>0</th>\n",
       "      <td>B003ES5ZUU</td>\n",
       "      <td>108</td>\n",
       "      <td>1.0</td>\n",
       "    </tr>\n",
       "    <tr>\n",
       "      <th>1</th>\n",
       "      <td>B007WTAJTO</td>\n",
       "      <td>99</td>\n",
       "      <td>2.0</td>\n",
       "    </tr>\n",
       "    <tr>\n",
       "      <th>2</th>\n",
       "      <td>B000N99BBC</td>\n",
       "      <td>90</td>\n",
       "      <td>3.0</td>\n",
       "    </tr>\n",
       "    <tr>\n",
       "      <th>3</th>\n",
       "      <td>B002WE6D44</td>\n",
       "      <td>69</td>\n",
       "      <td>4.0</td>\n",
       "    </tr>\n",
       "    <tr>\n",
       "      <th>4</th>\n",
       "      <td>B00829THK0</td>\n",
       "      <td>62</td>\n",
       "      <td>5.0</td>\n",
       "    </tr>\n",
       "  </tbody>\n",
       "</table>\n",
       "</div>"
      ],
      "text/plain": [
       "   Product_Id  Score  Rank\n",
       "0  B003ES5ZUU    108   1.0\n",
       "1  B007WTAJTO     99   2.0\n",
       "2  B000N99BBC     90   3.0\n",
       "3  B002WE6D44     69   4.0\n",
       "4  B00829THK0     62   5.0"
      ]
     },
     "execution_count": 17,
     "metadata": {},
     "output_type": "execute_result"
    }
   ],
   "source": [
    "popularity_recommendations = pd.crosstab(train_data['Product_Id'], train_data['Rating']).sort_values(by=5, ascending=False)[5].reset_index().head(5)\n",
    "popularity_recommendations.rename(columns = {5: 'Score'},inplace=True)\n",
    "popularity_recommendations['Rank'] = popularity_recommendations['Score'].rank(ascending=0, method='first')\n",
    "popularity_recommendations"
   ]
  },
  {
   "cell_type": "code",
   "execution_count": 18,
   "metadata": {},
   "outputs": [],
   "source": [
    "df_popularity_rec = pd.DataFrame()\n",
    "df_popularity_rec['Train_Recom'] = popularity_recommendations['Product_Id']"
   ]
  },
  {
   "cell_type": "markdown",
   "metadata": {},
   "source": [
    "* Popularity Recommender model based on the train data with highest 5-star rating counts sorted as score in ascending order"
   ]
  },
  {
   "cell_type": "code",
   "execution_count": 19,
   "metadata": {},
   "outputs": [
    {
     "data": {
      "text/html": [
       "<div>\n",
       "<style scoped>\n",
       "    .dataframe tbody tr th:only-of-type {\n",
       "        vertical-align: middle;\n",
       "    }\n",
       "\n",
       "    .dataframe tbody tr th {\n",
       "        vertical-align: top;\n",
       "    }\n",
       "\n",
       "    .dataframe thead th {\n",
       "        text-align: right;\n",
       "    }\n",
       "</style>\n",
       "<table border=\"1\" class=\"dataframe\">\n",
       "  <thead>\n",
       "    <tr style=\"text-align: right;\">\n",
       "      <th>Rating</th>\n",
       "      <th>1</th>\n",
       "      <th>2</th>\n",
       "      <th>3</th>\n",
       "      <th>4</th>\n",
       "      <th>5</th>\n",
       "      <th>All</th>\n",
       "    </tr>\n",
       "    <tr>\n",
       "      <th>Product_Id</th>\n",
       "      <th></th>\n",
       "      <th></th>\n",
       "      <th></th>\n",
       "      <th></th>\n",
       "      <th></th>\n",
       "      <th></th>\n",
       "    </tr>\n",
       "  </thead>\n",
       "  <tbody>\n",
       "    <tr>\n",
       "      <th>All</th>\n",
       "      <td>1498</td>\n",
       "      <td>1608</td>\n",
       "      <td>3615</td>\n",
       "      <td>9721</td>\n",
       "      <td>21320</td>\n",
       "      <td>37762</td>\n",
       "    </tr>\n",
       "    <tr>\n",
       "      <th>B0088CJT4U</th>\n",
       "      <td>0</td>\n",
       "      <td>2</td>\n",
       "      <td>11</td>\n",
       "      <td>25</td>\n",
       "      <td>35</td>\n",
       "      <td>73</td>\n",
       "    </tr>\n",
       "    <tr>\n",
       "      <th>B003ES5ZUU</th>\n",
       "      <td>0</td>\n",
       "      <td>0</td>\n",
       "      <td>1</td>\n",
       "      <td>4</td>\n",
       "      <td>57</td>\n",
       "      <td>62</td>\n",
       "    </tr>\n",
       "    <tr>\n",
       "      <th>B000N99BBC</th>\n",
       "      <td>0</td>\n",
       "      <td>0</td>\n",
       "      <td>2</td>\n",
       "      <td>7</td>\n",
       "      <td>44</td>\n",
       "      <td>53</td>\n",
       "    </tr>\n",
       "    <tr>\n",
       "      <th>B00829TIEK</th>\n",
       "      <td>2</td>\n",
       "      <td>1</td>\n",
       "      <td>2</td>\n",
       "      <td>15</td>\n",
       "      <td>32</td>\n",
       "      <td>52</td>\n",
       "    </tr>\n",
       "    <tr>\n",
       "      <th>B008DWCRQW</th>\n",
       "      <td>1</td>\n",
       "      <td>0</td>\n",
       "      <td>8</td>\n",
       "      <td>18</td>\n",
       "      <td>19</td>\n",
       "      <td>46</td>\n",
       "    </tr>\n",
       "  </tbody>\n",
       "</table>\n",
       "</div>"
      ],
      "text/plain": [
       "Rating         1     2     3     4      5    All\n",
       "Product_Id                                      \n",
       "All         1498  1608  3615  9721  21320  37762\n",
       "B0088CJT4U     0     2    11    25     35     73\n",
       "B003ES5ZUU     0     0     1     4     57     62\n",
       "B000N99BBC     0     0     2     7     44     53\n",
       "B00829TIEK     2     1     2    15     32     52\n",
       "B008DWCRQW     1     0     8    18     19     46"
      ]
     },
     "execution_count": 19,
     "metadata": {},
     "output_type": "execute_result"
    }
   ],
   "source": [
    "pd.crosstab(test_data['Product_Id'], test_data['Rating'], margins = True).sort_values(by='All', ascending=False).head(6)"
   ]
  },
  {
   "cell_type": "code",
   "execution_count": 20,
   "metadata": {},
   "outputs": [
    {
     "data": {
      "text/html": [
       "<div>\n",
       "<style scoped>\n",
       "    .dataframe tbody tr th:only-of-type {\n",
       "        vertical-align: middle;\n",
       "    }\n",
       "\n",
       "    .dataframe tbody tr th {\n",
       "        vertical-align: top;\n",
       "    }\n",
       "\n",
       "    .dataframe thead th {\n",
       "        text-align: right;\n",
       "    }\n",
       "</style>\n",
       "<table border=\"1\" class=\"dataframe\">\n",
       "  <thead>\n",
       "    <tr style=\"text-align: right;\">\n",
       "      <th></th>\n",
       "      <th>Product_Id</th>\n",
       "      <th>Score</th>\n",
       "      <th>Rank</th>\n",
       "    </tr>\n",
       "  </thead>\n",
       "  <tbody>\n",
       "    <tr>\n",
       "      <th>0</th>\n",
       "      <td>B003ES5ZUU</td>\n",
       "      <td>57</td>\n",
       "      <td>1.0</td>\n",
       "    </tr>\n",
       "    <tr>\n",
       "      <th>1</th>\n",
       "      <td>B000N99BBC</td>\n",
       "      <td>44</td>\n",
       "      <td>2.0</td>\n",
       "    </tr>\n",
       "    <tr>\n",
       "      <th>2</th>\n",
       "      <td>B007WTAJTO</td>\n",
       "      <td>36</td>\n",
       "      <td>3.0</td>\n",
       "    </tr>\n",
       "    <tr>\n",
       "      <th>3</th>\n",
       "      <td>B0088CJT4U</td>\n",
       "      <td>35</td>\n",
       "      <td>4.0</td>\n",
       "    </tr>\n",
       "    <tr>\n",
       "      <th>4</th>\n",
       "      <td>B00829TIEK</td>\n",
       "      <td>32</td>\n",
       "      <td>5.0</td>\n",
       "    </tr>\n",
       "  </tbody>\n",
       "</table>\n",
       "</div>"
      ],
      "text/plain": [
       "   Product_Id  Score  Rank\n",
       "0  B003ES5ZUU     57   1.0\n",
       "1  B000N99BBC     44   2.0\n",
       "2  B007WTAJTO     36   3.0\n",
       "3  B0088CJT4U     35   4.0\n",
       "4  B00829TIEK     32   5.0"
      ]
     },
     "execution_count": 20,
     "metadata": {},
     "output_type": "execute_result"
    }
   ],
   "source": [
    "popularity_recommendations = pd.crosstab(test_data['Product_Id'], test_data['Rating']).sort_values(by=5, ascending=False)[5].reset_index().head(5)\n",
    "popularity_recommendations.rename(columns = {5: 'Score'},inplace=True)\n",
    "popularity_recommendations['Rank'] = popularity_recommendations['Score'].rank(ascending=0, method='first')\n",
    "popularity_recommendations"
   ]
  },
  {
   "cell_type": "code",
   "execution_count": 21,
   "metadata": {},
   "outputs": [],
   "source": [
    "df_popularity_rec['Test_Recom'] = popularity_recommendations['Product_Id']"
   ]
  },
  {
   "cell_type": "markdown",
   "metadata": {},
   "source": [
    "* Popularity Recommender model based on the test data with highest 5-star rating counts sorted as score in ascending order"
   ]
  },
  {
   "cell_type": "code",
   "execution_count": 22,
   "metadata": {},
   "outputs": [
    {
     "data": {
      "text/html": [
       "<div>\n",
       "<style scoped>\n",
       "    .dataframe tbody tr th:only-of-type {\n",
       "        vertical-align: middle;\n",
       "    }\n",
       "\n",
       "    .dataframe tbody tr th {\n",
       "        vertical-align: top;\n",
       "    }\n",
       "\n",
       "    .dataframe thead th {\n",
       "        text-align: right;\n",
       "    }\n",
       "</style>\n",
       "<table border=\"1\" class=\"dataframe\">\n",
       "  <thead>\n",
       "    <tr style=\"text-align: right;\">\n",
       "      <th>Rating</th>\n",
       "      <th>1</th>\n",
       "      <th>2</th>\n",
       "      <th>3</th>\n",
       "      <th>4</th>\n",
       "      <th>5</th>\n",
       "      <th>All</th>\n",
       "    </tr>\n",
       "    <tr>\n",
       "      <th>Product_Id</th>\n",
       "      <th></th>\n",
       "      <th></th>\n",
       "      <th></th>\n",
       "      <th></th>\n",
       "      <th></th>\n",
       "      <th></th>\n",
       "    </tr>\n",
       "  </thead>\n",
       "  <tbody>\n",
       "    <tr>\n",
       "      <th>All</th>\n",
       "      <td>5115</td>\n",
       "      <td>5367</td>\n",
       "      <td>12060</td>\n",
       "      <td>32295</td>\n",
       "      <td>71034</td>\n",
       "      <td>125871</td>\n",
       "    </tr>\n",
       "    <tr>\n",
       "      <th>B0088CJT4U</th>\n",
       "      <td>2</td>\n",
       "      <td>8</td>\n",
       "      <td>24</td>\n",
       "      <td>81</td>\n",
       "      <td>91</td>\n",
       "      <td>206</td>\n",
       "    </tr>\n",
       "    <tr>\n",
       "      <th>B003ES5ZUU</th>\n",
       "      <td>0</td>\n",
       "      <td>2</td>\n",
       "      <td>2</td>\n",
       "      <td>15</td>\n",
       "      <td>165</td>\n",
       "      <td>184</td>\n",
       "    </tr>\n",
       "    <tr>\n",
       "      <th>B000N99BBC</th>\n",
       "      <td>0</td>\n",
       "      <td>0</td>\n",
       "      <td>5</td>\n",
       "      <td>28</td>\n",
       "      <td>134</td>\n",
       "      <td>167</td>\n",
       "    </tr>\n",
       "    <tr>\n",
       "      <th>B007WTAJTO</th>\n",
       "      <td>5</td>\n",
       "      <td>1</td>\n",
       "      <td>3</td>\n",
       "      <td>20</td>\n",
       "      <td>135</td>\n",
       "      <td>164</td>\n",
       "    </tr>\n",
       "    <tr>\n",
       "      <th>B00829TIEK</th>\n",
       "      <td>4</td>\n",
       "      <td>3</td>\n",
       "      <td>4</td>\n",
       "      <td>51</td>\n",
       "      <td>87</td>\n",
       "      <td>149</td>\n",
       "    </tr>\n",
       "  </tbody>\n",
       "</table>\n",
       "</div>"
      ],
      "text/plain": [
       "Rating         1     2      3      4      5     All\n",
       "Product_Id                                         \n",
       "All         5115  5367  12060  32295  71034  125871\n",
       "B0088CJT4U     2     8     24     81     91     206\n",
       "B003ES5ZUU     0     2      2     15    165     184\n",
       "B000N99BBC     0     0      5     28    134     167\n",
       "B007WTAJTO     5     1      3     20    135     164\n",
       "B00829TIEK     4     3      4     51     87     149"
      ]
     },
     "execution_count": 22,
     "metadata": {},
     "output_type": "execute_result"
    }
   ],
   "source": [
    "pd.crosstab(df_final['Product_Id'], df_final['Rating'], margins = True).sort_values(by='All', ascending=False).head(6)"
   ]
  },
  {
   "cell_type": "code",
   "execution_count": 23,
   "metadata": {},
   "outputs": [
    {
     "data": {
      "text/html": [
       "<div>\n",
       "<style scoped>\n",
       "    .dataframe tbody tr th:only-of-type {\n",
       "        vertical-align: middle;\n",
       "    }\n",
       "\n",
       "    .dataframe tbody tr th {\n",
       "        vertical-align: top;\n",
       "    }\n",
       "\n",
       "    .dataframe thead th {\n",
       "        text-align: right;\n",
       "    }\n",
       "</style>\n",
       "<table border=\"1\" class=\"dataframe\">\n",
       "  <thead>\n",
       "    <tr style=\"text-align: right;\">\n",
       "      <th></th>\n",
       "      <th>Product_Id</th>\n",
       "      <th>Score</th>\n",
       "      <th>Rank</th>\n",
       "    </tr>\n",
       "  </thead>\n",
       "  <tbody>\n",
       "    <tr>\n",
       "      <th>0</th>\n",
       "      <td>B003ES5ZUU</td>\n",
       "      <td>165</td>\n",
       "      <td>1.0</td>\n",
       "    </tr>\n",
       "    <tr>\n",
       "      <th>1</th>\n",
       "      <td>B007WTAJTO</td>\n",
       "      <td>135</td>\n",
       "      <td>2.0</td>\n",
       "    </tr>\n",
       "    <tr>\n",
       "      <th>2</th>\n",
       "      <td>B000N99BBC</td>\n",
       "      <td>134</td>\n",
       "      <td>3.0</td>\n",
       "    </tr>\n",
       "    <tr>\n",
       "      <th>3</th>\n",
       "      <td>B0088CJT4U</td>\n",
       "      <td>91</td>\n",
       "      <td>4.0</td>\n",
       "    </tr>\n",
       "    <tr>\n",
       "      <th>4</th>\n",
       "      <td>B00829TIEK</td>\n",
       "      <td>87</td>\n",
       "      <td>5.0</td>\n",
       "    </tr>\n",
       "  </tbody>\n",
       "</table>\n",
       "</div>"
      ],
      "text/plain": [
       "   Product_Id  Score  Rank\n",
       "0  B003ES5ZUU    165   1.0\n",
       "1  B007WTAJTO    135   2.0\n",
       "2  B000N99BBC    134   3.0\n",
       "3  B0088CJT4U     91   4.0\n",
       "4  B00829TIEK     87   5.0"
      ]
     },
     "execution_count": 23,
     "metadata": {},
     "output_type": "execute_result"
    }
   ],
   "source": [
    "popularity_recommendations = pd.crosstab(df_final['Product_Id'], df_final['Rating']).sort_values(by=5, ascending=False)[5].reset_index().head(5)\n",
    "popularity_recommendations.rename(columns = {5: 'Score'},inplace=True)\n",
    "popularity_recommendations['Rank'] = popularity_recommendations['Score'].rank(ascending=0, method='first')\n",
    "popularity_recommendations "
   ]
  },
  {
   "cell_type": "code",
   "execution_count": 24,
   "metadata": {},
   "outputs": [],
   "source": [
    "df_popularity_rec['Subset_Data_Recom'] = popularity_recommendations['Product_Id']\n",
    "df_popularity_rec['Rank'] = popularity_recommendations['Rank'].astype('int64')"
   ]
  },
  {
   "cell_type": "markdown",
   "metadata": {},
   "source": [
    "* Popularity Recommender model based on the subset data with highest 5-star rating counts sorted as score in ascending order\n",
    "* Popularity Recommender models have been built based on top 5-star rating counts to ensure highly rated as well as popular products are considered\n",
    "* Top 5 products from Test and Actual are matching perfectly (except that 2nd and 3rd positions are swapped)\n",
    "* 4th and 5th position as per Train results are not there in the top 5 in Actual data\n",
    "* Pure form of Popularity Recommender model Mean has not been considered to ensure products with most good ratings are in results"
   ]
  },
  {
   "cell_type": "markdown",
   "metadata": {},
   "source": [
    "### Step 5: Build Collaborative Filtering model."
   ]
  },
  {
   "cell_type": "markdown",
   "metadata": {},
   "source": [
    "#### Surprise Package"
   ]
  },
  {
   "cell_type": "code",
   "execution_count": 25,
   "metadata": {},
   "outputs": [],
   "source": [
    "from surprise import SVD, KNNWithMeans, BaselineOnly, accuracy\n",
    "from surprise.model_selection import GridSearchCV"
   ]
  },
  {
   "cell_type": "code",
   "execution_count": 26,
   "metadata": {},
   "outputs": [],
   "source": [
    "# param_grid = {'bsl_options': {'method': ['als', 'sgd'],\n",
    "#                               'reg': [1, 2]},\n",
    "#               'k': [2, 3],\n",
    "#               'sim_options': {'name': ['msd', 'cosine', 'pearson_baseline'],\n",
    "#                               'min_support': [1, 5],\n",
    "#                               'user_based': [False]}\n",
    "#               }\n",
    "# gs = GridSearchCV(KNNWithMeans, param_grid, measures=['rmse'], cv=5)\n",
    "# gs.fit(data)\n",
    "# print(gs.best_score['rmse'])\n",
    "# print(gs.best_params['rmse'])"
   ]
  },
  {
   "cell_type": "code",
   "execution_count": 27,
   "metadata": {},
   "outputs": [
    {
     "name": "stdout",
     "output_type": "stream",
     "text": [
      "Computing the cosine similarity matrix...\n",
      "Done computing similarity matrix.\n",
      "RMSE: 1.1124\n",
      "Test 1.1124396686593434\n"
     ]
    }
   ],
   "source": [
    "#algo = gs.best_estimator['rmse']\n",
    "algo = KNNWithMeans(method='als', reg=1, k= 50, sim_options= {'name': 'cosine', 'min_support': 5, 'user_based': False})\n",
    "algo.fit(trainset)\n",
    "test_pred = algo.test(testset)\n",
    "print('Test', accuracy.rmse(test_pred))\n",
    "#test_pred[0:5]"
   ]
  },
  {
   "cell_type": "code",
   "execution_count": 28,
   "metadata": {},
   "outputs": [
    {
     "name": "stdout",
     "output_type": "stream",
     "text": [
      "Estimating biases using als...\n",
      "RMSE: 0.9592\n",
      "0.9591970176766436\n"
     ]
    }
   ],
   "source": [
    "#algo = gs.best_estimator['rmse']\n",
    "# bsl_options = {'method': 'sgd',\n",
    "#                'learning_rate': .00005,\n",
    "#                }\n",
    "\n",
    "bsl_options = {'method': 'als',\n",
    "               'n_epochs': 5,\n",
    "               'reg_u': 12,\n",
    "               'reg_i': 5\n",
    "               }\n",
    "algo = BaselineOnly(bsl_options=bsl_options)\n",
    "algo.fit(trainset)\n",
    "test_pred = algo.test(testset)\n",
    "print(accuracy.rmse(test_pred))\n",
    "#test_pred[0:5]"
   ]
  },
  {
   "cell_type": "code",
   "execution_count": 29,
   "metadata": {},
   "outputs": [],
   "source": [
    "# param_grid = {'n_epochs': [5, 10], 'lr_all': [0.002, 0.005], 'reg_all': [0.4, 0.6]}\n",
    "# gs = GridSearchCV(SVD, param_grid, measures=['rmse'], cv=5)\n",
    "# gs.fit(data)\n",
    "# print(gs.best_score['rmse'])\n",
    "# print(gs.best_params['rmse'])"
   ]
  },
  {
   "cell_type": "code",
   "execution_count": 30,
   "metadata": {},
   "outputs": [
    {
     "name": "stdout",
     "output_type": "stream",
     "text": [
      "RMSE: 0.9659\n",
      "0.9659425528802232\n"
     ]
    }
   ],
   "source": [
    "#algo = gs.best_estimator['rmse']\n",
    "algo = SVD(n_epochs=10, lr_all=0.005, reg_all=0.4)\n",
    "algo.fit(trainset)\n",
    "predictions = algo.test(testset)\n",
    "print(accuracy.rmse(predictions))\n",
    "#test_pred[0:5]"
   ]
  },
  {
   "cell_type": "markdown",
   "metadata": {},
   "source": [
    "__trainset.build_anti_testset()__\n",
    "\n",
    "The ratings are all the ratings that are not in the trainset, i.e. all the ratings rui where the user u is known, the item i is known, but the rating rui is not in the trainset. As rui is unknown, it is either replaced by the fill value or assumed to be equal to the mean of all ratings global_mean."
   ]
  },
  {
   "cell_type": "code",
   "execution_count": 31,
   "metadata": {},
   "outputs": [],
   "source": [
    "# reader = Reader(rating_scale=(1,5))\n",
    "# data = Dataset.load_from_df(df_final[['User_Id', 'Product_Id', 'Rating']], reader)"
   ]
  },
  {
   "cell_type": "code",
   "execution_count": 32,
   "metadata": {},
   "outputs": [],
   "source": [
    "# trainset = data.build_full_trainset()\n",
    "# algo = SVD(n_epochs=10, lr_all=0.005, reg_all=0.4)\n",
    "# algo.fit(trainset)\n",
    "# testset = trainset.build_anti_testset(fill=0)\n",
    "# predictions = algo.test(testset)"
   ]
  },
  {
   "cell_type": "code",
   "execution_count": 33,
   "metadata": {},
   "outputs": [],
   "source": [
    "# # uid = str(trainset.to_inner_uid('A141R97FHSSUQ0'))\n",
    "# # iid = str(trainset.to_inner_iid('B0052SCU8U'))\n",
    "# uid = 'A1CMD08Z49PGKQ'\n",
    "# iid = 'B0052SCU8U'\n",
    "# print(algo.predict(uid, iid))"
   ]
  },
  {
   "cell_type": "markdown",
   "metadata": {},
   "source": [
    "* Surprise package SVD was attempted for this project but could not be completed due to memory error as the data becomes relatively heavy.\n",
    "* Hence those results has been attached as separate Reference_Project_Recommendation_Systems_Sanju_Mathew_II.html file and the codes are commented here."
   ]
  },
  {
   "cell_type": "markdown",
   "metadata": {},
   "source": [
    "#### Linalg Function"
   ]
  },
  {
   "cell_type": "code",
   "execution_count": 34,
   "metadata": {},
   "outputs": [],
   "source": [
    "from scipy.sparse.linalg import svds\n",
    "\n",
    "pivot_df = final_ratings_matrix.copy(deep = True)\n",
    "index_list = pivot_df.index\n",
    "pivot_df['user_index'] = np.arange(0, final_ratings_matrix.shape[0], 1)\n",
    "pivot_df.set_index(['user_index'], inplace=True)"
   ]
  },
  {
   "cell_type": "code",
   "execution_count": 35,
   "metadata": {},
   "outputs": [
    {
     "data": {
      "text/html": [
       "<div>\n",
       "<style scoped>\n",
       "    .dataframe tbody tr th:only-of-type {\n",
       "        vertical-align: middle;\n",
       "    }\n",
       "\n",
       "    .dataframe tbody tr th {\n",
       "        vertical-align: top;\n",
       "    }\n",
       "\n",
       "    .dataframe thead th {\n",
       "        text-align: right;\n",
       "    }\n",
       "</style>\n",
       "<table border=\"1\" class=\"dataframe\">\n",
       "  <thead>\n",
       "    <tr style=\"text-align: right;\">\n",
       "      <th>Product_Id</th>\n",
       "      <th>0594451647</th>\n",
       "      <th>0594481813</th>\n",
       "      <th>0970407998</th>\n",
       "      <th>0972683275</th>\n",
       "      <th>1400501466</th>\n",
       "      <th>1400501520</th>\n",
       "      <th>1400501776</th>\n",
       "      <th>1400532620</th>\n",
       "      <th>1400532655</th>\n",
       "      <th>140053271X</th>\n",
       "      <th>...</th>\n",
       "      <th>B00L5YZCCG</th>\n",
       "      <th>B00L8I6SFY</th>\n",
       "      <th>B00L8QCVL6</th>\n",
       "      <th>B00LA6T0LS</th>\n",
       "      <th>B00LBZ1Z7K</th>\n",
       "      <th>B00LED02VY</th>\n",
       "      <th>B00LGN7Y3G</th>\n",
       "      <th>B00LGQ6HL8</th>\n",
       "      <th>B00LI4ZZO8</th>\n",
       "      <th>B00LKG1MC8</th>\n",
       "    </tr>\n",
       "    <tr>\n",
       "      <th>User_Id</th>\n",
       "      <th></th>\n",
       "      <th></th>\n",
       "      <th></th>\n",
       "      <th></th>\n",
       "      <th></th>\n",
       "      <th></th>\n",
       "      <th></th>\n",
       "      <th></th>\n",
       "      <th></th>\n",
       "      <th></th>\n",
       "      <th></th>\n",
       "      <th></th>\n",
       "      <th></th>\n",
       "      <th></th>\n",
       "      <th></th>\n",
       "      <th></th>\n",
       "      <th></th>\n",
       "      <th></th>\n",
       "      <th></th>\n",
       "      <th></th>\n",
       "      <th></th>\n",
       "    </tr>\n",
       "  </thead>\n",
       "  <tbody>\n",
       "    <tr>\n",
       "      <th>A100UD67AHFODS</th>\n",
       "      <td>0.002661</td>\n",
       "      <td>0.003576</td>\n",
       "      <td>0.004050</td>\n",
       "      <td>0.006906</td>\n",
       "      <td>0.003967</td>\n",
       "      <td>0.003073</td>\n",
       "      <td>0.005782</td>\n",
       "      <td>0.000568</td>\n",
       "      <td>0.014386</td>\n",
       "      <td>0.002708</td>\n",
       "      <td>...</td>\n",
       "      <td>6.108890e-04</td>\n",
       "      <td>0.044224</td>\n",
       "      <td>0.002919</td>\n",
       "      <td>0.060347</td>\n",
       "      <td>-0.002137</td>\n",
       "      <td>0.006751</td>\n",
       "      <td>0.001525</td>\n",
       "      <td>0.130951</td>\n",
       "      <td>0.059243</td>\n",
       "      <td>0.015014</td>\n",
       "    </tr>\n",
       "    <tr>\n",
       "      <th>A100WO06OQR8BQ</th>\n",
       "      <td>0.002262</td>\n",
       "      <td>0.002505</td>\n",
       "      <td>0.005136</td>\n",
       "      <td>0.016517</td>\n",
       "      <td>0.007120</td>\n",
       "      <td>0.001438</td>\n",
       "      <td>0.013258</td>\n",
       "      <td>0.000335</td>\n",
       "      <td>-0.003781</td>\n",
       "      <td>0.001190</td>\n",
       "      <td>...</td>\n",
       "      <td>2.024793e-04</td>\n",
       "      <td>0.029213</td>\n",
       "      <td>0.000010</td>\n",
       "      <td>0.000244</td>\n",
       "      <td>-0.003111</td>\n",
       "      <td>-0.000621</td>\n",
       "      <td>0.004409</td>\n",
       "      <td>-0.039241</td>\n",
       "      <td>-0.006889</td>\n",
       "      <td>0.003696</td>\n",
       "    </tr>\n",
       "    <tr>\n",
       "      <th>A105S56ODHGJEK</th>\n",
       "      <td>-0.001600</td>\n",
       "      <td>-0.002502</td>\n",
       "      <td>0.002186</td>\n",
       "      <td>0.016742</td>\n",
       "      <td>0.006716</td>\n",
       "      <td>-0.002113</td>\n",
       "      <td>0.005805</td>\n",
       "      <td>0.003497</td>\n",
       "      <td>-0.005009</td>\n",
       "      <td>-0.001588</td>\n",
       "      <td>...</td>\n",
       "      <td>-3.240446e-04</td>\n",
       "      <td>0.009180</td>\n",
       "      <td>-0.002459</td>\n",
       "      <td>-0.016922</td>\n",
       "      <td>0.019936</td>\n",
       "      <td>-0.002483</td>\n",
       "      <td>-0.000155</td>\n",
       "      <td>-0.002889</td>\n",
       "      <td>-0.011522</td>\n",
       "      <td>-0.004525</td>\n",
       "    </tr>\n",
       "    <tr>\n",
       "      <th>A105TOJ6LTVMBG</th>\n",
       "      <td>0.002732</td>\n",
       "      <td>0.003867</td>\n",
       "      <td>0.001799</td>\n",
       "      <td>0.009395</td>\n",
       "      <td>0.004075</td>\n",
       "      <td>0.002778</td>\n",
       "      <td>0.003507</td>\n",
       "      <td>0.000095</td>\n",
       "      <td>0.007983</td>\n",
       "      <td>0.002381</td>\n",
       "      <td>...</td>\n",
       "      <td>6.031462e-04</td>\n",
       "      <td>-0.003369</td>\n",
       "      <td>0.003433</td>\n",
       "      <td>-0.003428</td>\n",
       "      <td>-0.000750</td>\n",
       "      <td>0.000119</td>\n",
       "      <td>0.002612</td>\n",
       "      <td>-0.015107</td>\n",
       "      <td>-0.006740</td>\n",
       "      <td>0.003276</td>\n",
       "    </tr>\n",
       "    <tr>\n",
       "      <th>A10AFVU66A79Y1</th>\n",
       "      <td>0.000704</td>\n",
       "      <td>0.000085</td>\n",
       "      <td>0.002051</td>\n",
       "      <td>0.009664</td>\n",
       "      <td>0.004438</td>\n",
       "      <td>0.000335</td>\n",
       "      <td>0.005992</td>\n",
       "      <td>0.001056</td>\n",
       "      <td>-0.000369</td>\n",
       "      <td>0.000373</td>\n",
       "      <td>...</td>\n",
       "      <td>3.745108e-08</td>\n",
       "      <td>-0.001140</td>\n",
       "      <td>-0.000323</td>\n",
       "      <td>-0.025215</td>\n",
       "      <td>0.004700</td>\n",
       "      <td>-0.002170</td>\n",
       "      <td>0.001263</td>\n",
       "      <td>-0.048555</td>\n",
       "      <td>-0.016301</td>\n",
       "      <td>-0.003377</td>\n",
       "    </tr>\n",
       "  </tbody>\n",
       "</table>\n",
       "<p>5 rows × 48190 columns</p>\n",
       "</div>"
      ],
      "text/plain": [
       "Product_Id      0594451647  0594481813  0970407998  0972683275  1400501466  \\\n",
       "User_Id                                                                      \n",
       "A100UD67AHFODS    0.002661    0.003576    0.004050    0.006906    0.003967   \n",
       "A100WO06OQR8BQ    0.002262    0.002505    0.005136    0.016517    0.007120   \n",
       "A105S56ODHGJEK   -0.001600   -0.002502    0.002186    0.016742    0.006716   \n",
       "A105TOJ6LTVMBG    0.002732    0.003867    0.001799    0.009395    0.004075   \n",
       "A10AFVU66A79Y1    0.000704    0.000085    0.002051    0.009664    0.004438   \n",
       "\n",
       "Product_Id      1400501520  1400501776  1400532620  1400532655  140053271X  \\\n",
       "User_Id                                                                      \n",
       "A100UD67AHFODS    0.003073    0.005782    0.000568    0.014386    0.002708   \n",
       "A100WO06OQR8BQ    0.001438    0.013258    0.000335   -0.003781    0.001190   \n",
       "A105S56ODHGJEK   -0.002113    0.005805    0.003497   -0.005009   -0.001588   \n",
       "A105TOJ6LTVMBG    0.002778    0.003507    0.000095    0.007983    0.002381   \n",
       "A10AFVU66A79Y1    0.000335    0.005992    0.001056   -0.000369    0.000373   \n",
       "\n",
       "Product_Id      ...    B00L5YZCCG  B00L8I6SFY  B00L8QCVL6  B00LA6T0LS  \\\n",
       "User_Id         ...                                                     \n",
       "A100UD67AHFODS  ...  6.108890e-04    0.044224    0.002919    0.060347   \n",
       "A100WO06OQR8BQ  ...  2.024793e-04    0.029213    0.000010    0.000244   \n",
       "A105S56ODHGJEK  ... -3.240446e-04    0.009180   -0.002459   -0.016922   \n",
       "A105TOJ6LTVMBG  ...  6.031462e-04   -0.003369    0.003433   -0.003428   \n",
       "A10AFVU66A79Y1  ...  3.745108e-08   -0.001140   -0.000323   -0.025215   \n",
       "\n",
       "Product_Id      B00LBZ1Z7K  B00LED02VY  B00LGN7Y3G  B00LGQ6HL8  B00LI4ZZO8  \\\n",
       "User_Id                                                                      \n",
       "A100UD67AHFODS   -0.002137    0.006751    0.001525    0.130951    0.059243   \n",
       "A100WO06OQR8BQ   -0.003111   -0.000621    0.004409   -0.039241   -0.006889   \n",
       "A105S56ODHGJEK    0.019936   -0.002483   -0.000155   -0.002889   -0.011522   \n",
       "A105TOJ6LTVMBG   -0.000750    0.000119    0.002612   -0.015107   -0.006740   \n",
       "A10AFVU66A79Y1    0.004700   -0.002170    0.001263   -0.048555   -0.016301   \n",
       "\n",
       "Product_Id      B00LKG1MC8  \n",
       "User_Id                     \n",
       "A100UD67AHFODS    0.015014  \n",
       "A100WO06OQR8BQ    0.003696  \n",
       "A105S56ODHGJEK   -0.004525  \n",
       "A105TOJ6LTVMBG    0.003276  \n",
       "A10AFVU66A79Y1   -0.003377  \n",
       "\n",
       "[5 rows x 48190 columns]"
      ]
     },
     "execution_count": 35,
     "metadata": {},
     "output_type": "execute_result"
    }
   ],
   "source": [
    "U, sigma, Vt = svds(pivot_df, k = 10)\n",
    "sigma = np.diag(sigma)\n",
    "all_user_predicted_ratings = np.dot(np.dot(U, sigma), Vt)\n",
    "preds_df = pd.DataFrame(all_user_predicted_ratings, columns = pivot_df.columns, index = index_list)\n",
    "preds_df.head()"
   ]
  },
  {
   "cell_type": "markdown",
   "metadata": {},
   "source": [
    "### Step 6: Evaluate both the models.\n",
    "* Compute the error (RMSE) on predictions made on the test data."
   ]
  },
  {
   "cell_type": "markdown",
   "metadata": {},
   "source": [
    "#### Popularity Recommender model"
   ]
  },
  {
   "cell_type": "code",
   "execution_count": 36,
   "metadata": {},
   "outputs": [
    {
     "data": {
      "text/html": [
       "<div>\n",
       "<style scoped>\n",
       "    .dataframe tbody tr th:only-of-type {\n",
       "        vertical-align: middle;\n",
       "    }\n",
       "\n",
       "    .dataframe tbody tr th {\n",
       "        vertical-align: top;\n",
       "    }\n",
       "\n",
       "    .dataframe thead th {\n",
       "        text-align: right;\n",
       "    }\n",
       "</style>\n",
       "<table border=\"1\" class=\"dataframe\">\n",
       "  <thead>\n",
       "    <tr style=\"text-align: right;\">\n",
       "      <th></th>\n",
       "      <th>Train_Recom</th>\n",
       "      <th>Test_Recom</th>\n",
       "      <th>Subset_Data_Recom</th>\n",
       "    </tr>\n",
       "    <tr>\n",
       "      <th>Rank</th>\n",
       "      <th></th>\n",
       "      <th></th>\n",
       "      <th></th>\n",
       "    </tr>\n",
       "  </thead>\n",
       "  <tbody>\n",
       "    <tr>\n",
       "      <th>1</th>\n",
       "      <td>B003ES5ZUU</td>\n",
       "      <td>B003ES5ZUU</td>\n",
       "      <td>B003ES5ZUU</td>\n",
       "    </tr>\n",
       "    <tr>\n",
       "      <th>2</th>\n",
       "      <td>B007WTAJTO</td>\n",
       "      <td>B000N99BBC</td>\n",
       "      <td>B007WTAJTO</td>\n",
       "    </tr>\n",
       "    <tr>\n",
       "      <th>3</th>\n",
       "      <td>B000N99BBC</td>\n",
       "      <td>B007WTAJTO</td>\n",
       "      <td>B000N99BBC</td>\n",
       "    </tr>\n",
       "    <tr>\n",
       "      <th>4</th>\n",
       "      <td>B002WE6D44</td>\n",
       "      <td>B0088CJT4U</td>\n",
       "      <td>B0088CJT4U</td>\n",
       "    </tr>\n",
       "    <tr>\n",
       "      <th>5</th>\n",
       "      <td>B00829THK0</td>\n",
       "      <td>B00829TIEK</td>\n",
       "      <td>B00829TIEK</td>\n",
       "    </tr>\n",
       "  </tbody>\n",
       "</table>\n",
       "</div>"
      ],
      "text/plain": [
       "     Train_Recom  Test_Recom Subset_Data_Recom\n",
       "Rank                                          \n",
       "1     B003ES5ZUU  B003ES5ZUU        B003ES5ZUU\n",
       "2     B007WTAJTO  B000N99BBC        B007WTAJTO\n",
       "3     B000N99BBC  B007WTAJTO        B000N99BBC\n",
       "4     B002WE6D44  B0088CJT4U        B0088CJT4U\n",
       "5     B00829THK0  B00829TIEK        B00829TIEK"
      ]
     },
     "execution_count": 36,
     "metadata": {},
     "output_type": "execute_result"
    }
   ],
   "source": [
    "df_popularity_rec.set_index('Rank')"
   ]
  },
  {
   "cell_type": "code",
   "execution_count": 37,
   "metadata": {},
   "outputs": [
    {
     "name": "stdout",
     "output_type": "stream",
     "text": [
      "Train Accuracy: 0.6 | Test  Accuracy: 1.0\n"
     ]
    },
    {
     "data": {
      "text/html": [
       "<div>\n",
       "<style scoped>\n",
       "    .dataframe tbody tr th:only-of-type {\n",
       "        vertical-align: middle;\n",
       "    }\n",
       "\n",
       "    .dataframe tbody tr th {\n",
       "        vertical-align: top;\n",
       "    }\n",
       "\n",
       "    .dataframe thead th {\n",
       "        text-align: right;\n",
       "    }\n",
       "</style>\n",
       "<table border=\"1\" class=\"dataframe\">\n",
       "  <thead>\n",
       "    <tr style=\"text-align: right;\">\n",
       "      <th></th>\n",
       "      <th>Train Score</th>\n",
       "      <th>Test Score</th>\n",
       "    </tr>\n",
       "    <tr>\n",
       "      <th>Rank</th>\n",
       "      <th></th>\n",
       "      <th></th>\n",
       "    </tr>\n",
       "  </thead>\n",
       "  <tbody>\n",
       "    <tr>\n",
       "      <th>1</th>\n",
       "      <td>1</td>\n",
       "      <td>1</td>\n",
       "    </tr>\n",
       "    <tr>\n",
       "      <th>2</th>\n",
       "      <td>1</td>\n",
       "      <td>1</td>\n",
       "    </tr>\n",
       "    <tr>\n",
       "      <th>3</th>\n",
       "      <td>1</td>\n",
       "      <td>1</td>\n",
       "    </tr>\n",
       "    <tr>\n",
       "      <th>4</th>\n",
       "      <td>0</td>\n",
       "      <td>1</td>\n",
       "    </tr>\n",
       "    <tr>\n",
       "      <th>5</th>\n",
       "      <td>0</td>\n",
       "      <td>1</td>\n",
       "    </tr>\n",
       "  </tbody>\n",
       "</table>\n",
       "</div>"
      ],
      "text/plain": [
       "      Train Score  Test Score\n",
       "Rank                         \n",
       "1               1           1\n",
       "2               1           1\n",
       "3               1           1\n",
       "4               0           1\n",
       "5               0           1"
      ]
     },
     "execution_count": 37,
     "metadata": {},
     "output_type": "execute_result"
    }
   ],
   "source": [
    "Train_Score, Test_Score = [], []\n",
    "for i in range(df_popularity_rec.shape[0]):\n",
    "    if df_popularity_rec.iloc[i,0] in df_popularity_rec.iloc[:,2].tolist():\n",
    "        Train_Score.append(1)\n",
    "    else:\n",
    "        Train_Score.append(0)\n",
    "for i in range(df_popularity_rec.shape[0]):\n",
    "    if df_popularity_rec.iloc[i,1] in df_popularity_rec.iloc[:,2].tolist():\n",
    "        Test_Score.append(1)\n",
    "    else:\n",
    "        Test_Score.append(0)\n",
    "df_popularity_score = pd.DataFrame(list(zip(Train_Score, Test_Score)), columns =['Train Score', 'Test Score'], index = df_popularity_rec.Rank)\n",
    "print('Train Accuracy:', df_popularity_score['Train Score'].mean(), '| Test  Accuracy:', df_popularity_score['Test Score'].mean())\n",
    "df_popularity_score"
   ]
  },
  {
   "cell_type": "markdown",
   "metadata": {},
   "source": [
    "$$RMSE = \\sqrt {\\sum ^{n}_{i=1}\\dfrac {\\left( ŷ_{i}-y_{i}\\right) ^{2}}{n}}$$"
   ]
  },
  {
   "cell_type": "markdown",
   "metadata": {},
   "source": [
    "Considering predictions (ŷ) as 1, if predictions were in actual top 5 recommendations\n",
    "* Train RMSE: $\\sqrt {\\dfrac {\\left( 1-1\\right) ^{2}+\\left( 1-1\\right) ^{2}+\\left( 1-1\\right) ^{2}+\\left( 0-1\\right) ^{2}+\\left( 0-1\\right) ^{2}}{5}}\\simeq 0.632$\n",
    "* Test RMSE:  $\\sqrt {\\dfrac {\\left( 1-1\\right) ^{2}+\\left( 1-1\\right) ^{2}+\\left( 1-1\\right) ^{2}+\\left( 1-1\\right) ^{2}+\\left( 1-1\\right) ^{2}}{5}}=0$"
   ]
  },
  {
   "cell_type": "markdown",
   "metadata": {},
   "source": [
    "#### Collaborative Filtering model - Linalg Function"
   ]
  },
  {
   "cell_type": "code",
   "execution_count": 38,
   "metadata": {},
   "outputs": [
    {
     "name": "stdout",
     "output_type": "stream",
     "text": [
      "(48190, 2)\n"
     ]
    },
    {
     "data": {
      "text/html": [
       "<div>\n",
       "<style scoped>\n",
       "    .dataframe tbody tr th:only-of-type {\n",
       "        vertical-align: middle;\n",
       "    }\n",
       "\n",
       "    .dataframe tbody tr th {\n",
       "        vertical-align: top;\n",
       "    }\n",
       "\n",
       "    .dataframe thead th {\n",
       "        text-align: right;\n",
       "    }\n",
       "</style>\n",
       "<table border=\"1\" class=\"dataframe\">\n",
       "  <thead>\n",
       "    <tr style=\"text-align: right;\">\n",
       "      <th></th>\n",
       "      <th>Avg_actual_ratings</th>\n",
       "      <th>Avg_predicted_ratings</th>\n",
       "      <th>item_index</th>\n",
       "    </tr>\n",
       "    <tr>\n",
       "      <th>Product_Id</th>\n",
       "      <th></th>\n",
       "      <th></th>\n",
       "      <th></th>\n",
       "    </tr>\n",
       "  </thead>\n",
       "  <tbody>\n",
       "    <tr>\n",
       "      <th>0594451647</th>\n",
       "      <td>0.003247</td>\n",
       "      <td>0.001542</td>\n",
       "      <td>0</td>\n",
       "    </tr>\n",
       "    <tr>\n",
       "      <th>0594481813</th>\n",
       "      <td>0.001948</td>\n",
       "      <td>0.002341</td>\n",
       "      <td>1</td>\n",
       "    </tr>\n",
       "    <tr>\n",
       "      <th>0970407998</th>\n",
       "      <td>0.003247</td>\n",
       "      <td>0.002597</td>\n",
       "      <td>2</td>\n",
       "    </tr>\n",
       "    <tr>\n",
       "      <th>0972683275</th>\n",
       "      <td>0.012338</td>\n",
       "      <td>0.011807</td>\n",
       "      <td>3</td>\n",
       "    </tr>\n",
       "    <tr>\n",
       "      <th>1400501466</th>\n",
       "      <td>0.012987</td>\n",
       "      <td>0.004848</td>\n",
       "      <td>4</td>\n",
       "    </tr>\n",
       "  </tbody>\n",
       "</table>\n",
       "</div>"
      ],
      "text/plain": [
       "            Avg_actual_ratings  Avg_predicted_ratings  item_index\n",
       "Product_Id                                                       \n",
       "0594451647            0.003247               0.001542           0\n",
       "0594481813            0.001948               0.002341           1\n",
       "0970407998            0.003247               0.002597           2\n",
       "0972683275            0.012338               0.011807           3\n",
       "1400501466            0.012987               0.004848           4"
      ]
     },
     "execution_count": 38,
     "metadata": {},
     "output_type": "execute_result"
    }
   ],
   "source": [
    "rmse_df = pd.concat([final_ratings_matrix.mean(), preds_df.mean()], axis=1)\n",
    "rmse_df.columns = ['Avg_actual_ratings', 'Avg_predicted_ratings']\n",
    "print(rmse_df.shape)\n",
    "rmse_df['item_index'] = np.arange(0, rmse_df.shape[0], 1)\n",
    "rmse_df.head()"
   ]
  },
  {
   "cell_type": "code",
   "execution_count": 39,
   "metadata": {},
   "outputs": [
    {
     "name": "stdout",
     "output_type": "stream",
     "text": [
      "RMSE Linalg Function SVD Model = 0.0033 \n",
      "\n"
     ]
    }
   ],
   "source": [
    "RMSE = round((((rmse_df.Avg_actual_ratings - rmse_df.Avg_predicted_ratings) ** 2).mean() ** 0.5), 5)\n",
    "print('RMSE Linalg Function SVD Model = {} \\n'.format(RMSE))"
   ]
  },
  {
   "cell_type": "markdown",
   "metadata": {},
   "source": [
    "#### Collaborative Filtering model - Surprise Package"
   ]
  },
  {
   "cell_type": "code",
   "execution_count": 40,
   "metadata": {},
   "outputs": [],
   "source": [
    "# preds_df_sur = pd.DataFrame(columns = final_ratings_matrix.columns, index = final_ratings_matrix.index)\n",
    "# for idx in preds_df_sur.index:\n",
    "#     Estim = []\n",
    "#     for col in preds_df_sur.columns:\n",
    "#         Estim.append(algo.predict(idx, col)[3])\n",
    "#     preds_df_sur.loc[idx, :] = Estim\n",
    "# preds_df_sur.head()"
   ]
  },
  {
   "cell_type": "code",
   "execution_count": 41,
   "metadata": {},
   "outputs": [],
   "source": [
    "# rmse_df_sur = pd.concat([final_ratings_matrix.mean(), preds_df_sur.mean()], axis=1)\n",
    "# rmse_df_sur.columns = ['Avg_actual_ratings', 'Avg_predicted_ratings']\n",
    "# print(rmse_df_sur.shape)\n",
    "# rmse_df_sur['item_index'] = np.arange(0, rmse_df_sur.shape[0], 1)\n",
    "# rmse_df_sur.head()"
   ]
  },
  {
   "cell_type": "code",
   "execution_count": 42,
   "metadata": {},
   "outputs": [],
   "source": [
    "# RMSE_sur = round((((rmse_df_sur.Avg_actual_ratings - rmse_df_sur.Avg_predicted_ratings) ** 2).mean() ** 0.5), 5)\n",
    "# print('RMSE Surprise Package SVD Model = {} \\n'.format(RMSE_sur))"
   ]
  },
  {
   "cell_type": "markdown",
   "metadata": {},
   "source": [
    "* RMSE Linalg Function SVD Model: 0.0033 \n",
    "* RMSE Surprise Package SVD Model: 4.24313 (Based on Reference_Project_Recommendation_Systems_Sanju_Mathew_II.html attached separately).\n",
    "\n",
    "\n",
    "_Note: RMSE Surprise Package SVD Model results could not be calculated in this notebook as the memory requirements for all the codes together was not available with me and threw up errors_"
   ]
  },
  {
   "cell_type": "markdown",
   "metadata": {},
   "source": [
    "* These were the results based on the calculation. But may not be comparable as the Linalg Function SVD Model predicted scores close to 0, while Surprise Package SVD Model predicted estimates closer to global mean of 4.261339\n",
    "* Their Avg_predicted_ratings were subtracted from Avg_actual_ratings which had unknown values filled as 0 in final_ratings_matrix leading to a mean closer to 0, as majority values were unknown.\n",
    "* Hence they are both on different scales and to adjust the values subtracting by Global Mean of df_final\n",
    "* RMSE Surprise Package SVD Model: 4.261339 - 4.24313 = 0.018209\n",
    "* Continuing with Popularity Recommender model based on Subset Data and Collaborative Filtering model based on Linalg Function."
   ]
  },
  {
   "cell_type": "markdown",
   "metadata": {},
   "source": [
    "### Step 7: Get top - K ( K = 5) recommendations.\n",
    "* Recommend new products for each user based on his/her habits."
   ]
  },
  {
   "cell_type": "code",
   "execution_count": 43,
   "metadata": {},
   "outputs": [],
   "source": [
    "def recommend(user_id):  \n",
    "    user_recommendations = popularity_recommendations \n",
    "    user_recommendations['User_Id'] = user_id \n",
    "    cols = user_recommendations.columns.tolist() \n",
    "    cols = cols[-1:] + cols[:-1] \n",
    "    user_recommendations = user_recommendations[cols]\n",
    "    print(\"Below are the recommended items for User Id: %d\" %(user_id))\n",
    "    print('*'*48)\n",
    "    return user_recommendations \n",
    "\n",
    "from collections import defaultdict\n",
    "def get_top_n(predictions, n=5):\n",
    "    top_n = defaultdict(list)\n",
    "    for uid, iid, true_r, est, _ in predictions:\n",
    "        top_n[uid].append((iid, est))\n",
    "    for uid, user_ratings in top_n.items():\n",
    "        user_ratings.sort(key=lambda x: x[1], reverse=True)\n",
    "        top_n[uid] = user_ratings[:n]\n",
    "    return top_n\n",
    "\n",
    "def recommend_items(userID, pivot_df, preds_df):   \n",
    "    user_idx = userID-1\n",
    "    sorted_user_ratings = pivot_df.iloc[user_idx].sort_values(ascending=False)\n",
    "    sorted_user_predictions = preds_df.iloc[user_idx].sort_values(ascending=False)\n",
    "    \n",
    "    temp = pd.concat([sorted_user_ratings, sorted_user_predictions], axis=1)\n",
    "    user = temp.columns[1]\n",
    "    temp.index.name = 'Recommended Items'\n",
    "    temp.columns = ['User_Ratings', 'Predictions']\n",
    "    \n",
    "    temp = temp.loc[temp.User_Ratings == 0]   \n",
    "    temp = temp.sort_values('Predictions', ascending=False)\n",
    "    print('Below are the recommended items for user', user, 'and User_Id:', userID)\n",
    "    print('*'*72)\n",
    "    print(temp.head(), \"\\n\", \"\\n\")\n",
    "    \n",
    "# def recommend_items_sur(i):   \n",
    "#     uid = str(trainset.to_inner_uid(i))\n",
    "#     sorted_items, sorted_user_predictions = [], []\n",
    "#     for j in top_n[i]:\n",
    "#         sorted_items.append(j[0])\n",
    "#         sorted_user_predictions.append(j[1])\n",
    "\n",
    "#     temp = pd.DataFrame(list(zip([0.0, 0.0, 0.0, 0.0, 0.0], sorted_user_predictions)), columns =['User_Ratings', 'Predictions'], index = sorted_items)\n",
    "#     temp.index.name = 'Recommended Items'\n",
    "#     print('Below are the recommended items for user', i)#, 'and User_Id:', uid)\n",
    "#     print('*'*55)\n",
    "#     print(temp, \"\\n\", \"\\n\")"
   ]
  },
  {
   "cell_type": "markdown",
   "metadata": {},
   "source": [
    "#### Popularity Recommender model"
   ]
  },
  {
   "cell_type": "code",
   "execution_count": 44,
   "metadata": {},
   "outputs": [
    {
     "name": "stdout",
     "output_type": "stream",
     "text": [
      "Below are the recommended items for User Id: 50\n",
      "************************************************\n",
      "   User_Id  Product_Id  Score  Rank\n",
      "0       50  B003ES5ZUU    165   1.0\n",
      "1       50  B007WTAJTO    135   2.0\n",
      "2       50  B000N99BBC    134   3.0\n",
      "3       50  B0088CJT4U     91   4.0\n",
      "4       50  B00829TIEK     87   5.0 \n",
      "\n",
      "Below are the recommended items for User Id: 100\n",
      "************************************************\n",
      "   User_Id  Product_Id  Score  Rank\n",
      "0      100  B003ES5ZUU    165   1.0\n",
      "1      100  B007WTAJTO    135   2.0\n",
      "2      100  B000N99BBC    134   3.0\n",
      "3      100  B0088CJT4U     91   4.0\n",
      "4      100  B00829TIEK     87   5.0 \n",
      "\n",
      "Below are the recommended items for User Id: 150\n",
      "************************************************\n",
      "   User_Id  Product_Id  Score  Rank\n",
      "0      150  B003ES5ZUU    165   1.0\n",
      "1      150  B007WTAJTO    135   2.0\n",
      "2      150  B000N99BBC    134   3.0\n",
      "3      150  B0088CJT4U     91   4.0\n",
      "4      150  B00829TIEK     87   5.0 \n",
      "\n"
     ]
    }
   ],
   "source": [
    "find_recom = [50, 100, 150]\n",
    "for i in find_recom:\n",
    "    print(recommend(i), \"\\n\")"
   ]
  },
  {
   "cell_type": "markdown",
   "metadata": {},
   "source": [
    "* Popularity Recommender model recomendations are same for all users\n",
    "* It is not personalised as per user habits"
   ]
  },
  {
   "cell_type": "markdown",
   "metadata": {},
   "source": [
    "#### Collaborative Filtering model - Linalg Function"
   ]
  },
  {
   "cell_type": "code",
   "execution_count": 45,
   "metadata": {},
   "outputs": [
    {
     "name": "stdout",
     "output_type": "stream",
     "text": [
      "Below are the recommended items for user A141R97FHSSUQ0 and User_Id: 50\n",
      "************************************************************************\n",
      "                   User_Ratings  Predictions\n",
      "Recommended Items                           \n",
      "B0088CJT4U                  0.0     1.663672\n",
      "B00829TIEK                  0.0     1.272065\n",
      "B002R5AM7C                  0.0     1.116708\n",
      "B004CLYEDC                  0.0     1.019160\n",
      "B00829THK0                  0.0     0.993060 \n",
      " \n",
      "\n",
      "Below are the recommended items for user A18OTCHQ6MXD6X and User_Id: 100\n",
      "************************************************************************\n",
      "                   User_Ratings  Predictions\n",
      "Recommended Items                           \n",
      "B007WTAJTO                  0.0     0.667908\n",
      "B003ES5ZUU                  0.0     0.453355\n",
      "B002V88HFE                  0.0     0.371520\n",
      "B001TH7GUU                  0.0     0.287293\n",
      "B000QUUFRW                  0.0     0.286647 \n",
      " \n",
      "\n",
      "Below are the recommended items for user A1CMD08Z49PGKQ and User_Id: 150\n",
      "************************************************************************\n",
      "                   User_Ratings  Predictions\n",
      "Recommended Items                           \n",
      "B002WE6D44                  0.0     2.461731\n",
      "B000QUUFRW                  0.0     2.385166\n",
      "B001TH7GUU                  0.0     2.351295\n",
      "B001E1Y5O6                  0.0     1.892304\n",
      "B005FYNSPK                  0.0     1.831742 \n",
      " \n",
      "\n"
     ]
    }
   ],
   "source": [
    "find_recom = [50, 100, 150]\n",
    "for i in find_recom:\n",
    "    recommend_items(i, pivot_df, preds_df)"
   ]
  },
  {
   "cell_type": "markdown",
   "metadata": {},
   "source": [
    "* Collaborative Filtering model is personalised as per each users habits"
   ]
  },
  {
   "cell_type": "markdown",
   "metadata": {},
   "source": [
    "#### Collaborative Filtering model - Surprise Package"
   ]
  },
  {
   "cell_type": "code",
   "execution_count": 46,
   "metadata": {},
   "outputs": [],
   "source": [
    "# top_n = get_top_n(predictions, n=5)\n",
    "# find_recom = ['A141R97FHSSUQ0', 'A18OTCHQ6MXD6X', 'A1CMD08Z49PGKQ']\n",
    "# for i in find_recom:\n",
    "#     recommend_items_sur(i)"
   ]
  },
  {
   "cell_type": "markdown",
   "metadata": {},
   "source": [
    "* Surprise Package was tried on df_new and gave results. But could not be compared with recommendations based on df_final as the data was not consistent.\n",
    "* While RMSE of df_new did not perform better than df_final for Linalg Function"
   ]
  },
  {
   "cell_type": "markdown",
   "metadata": {},
   "source": [
    "### Step 8: Summarise your insights."
   ]
  },
  {
   "cell_type": "markdown",
   "metadata": {},
   "source": [
    "#### Popularity Recommender model\n",
    "As mentioned earlier Popularity Recommender model recommendations are same for all users as it is based on frequency count of top ratings independent of users. It is not personalised as per users past habits and can be used to mitigate cold start issues while creating a hybrid model. Same top 5 products as given below are recommended for all. (Both A141R97FHSSUQ0 & A18OTCHQ6MXD6X)\n",
    "* B003ES5ZUU\n",
    "* B007WTAJTO\n",
    "* B000N99BBC\n",
    "* B0088CJT4U\n",
    "* B00829TIEK \n",
    "\n",
    "\n",
    "#### Collaborative Filtering model\n",
    "It is personalised as per each users past habits. For user A141R97FHSSUQ0 below are the top 5 product recommendations\n",
    "* B0088CJT4U\n",
    "* B00829TIEK\n",
    "* B002R5AM7C\n",
    "* B004CLYEDC\n",
    "* B00829THK0\n",
    "\n",
    "\n",
    "While for user A18OTCHQ6MXD6X below top 5 product recommendations are very unique to his/her past ratings compared to previous user\n",
    "* B007WTAJTO\n",
    "* B003ES5ZUU\n",
    "* B002V88HFE\n",
    "* B001TH7GUU\n",
    "* B000QUUFRW"
   ]
  }
 ],
 "metadata": {
  "kernelspec": {
   "display_name": "Python 3",
   "language": "python",
   "name": "python3"
  },
  "language_info": {
   "codemirror_mode": {
    "name": "ipython",
    "version": 3
   },
   "file_extension": ".py",
   "mimetype": "text/x-python",
   "name": "python",
   "nbconvert_exporter": "python",
   "pygments_lexer": "ipython3",
   "version": "3.7.3"
  }
 },
 "nbformat": 4,
 "nbformat_minor": 2
}
